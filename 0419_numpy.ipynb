{
 "cells": [
  {
   "cell_type": "code",
   "execution_count": 2,
   "metadata": {},
   "outputs": [],
   "source": [
    "import numpy as np"
   ]
  },
  {
   "attachments": {},
   "cell_type": "markdown",
   "metadata": {},
   "source": [
    "Creating a ndarry object. We can use any of the methods on this object after it has been created."
   ]
  },
  {
   "cell_type": "code",
   "execution_count": 6,
   "metadata": {},
   "outputs": [
    {
     "name": "stdout",
     "output_type": "stream",
     "text": [
      "[1 2 3 4 5]\n",
      "<class 'numpy.ndarray'>\n"
     ]
    }
   ],
   "source": [
    "array1= np.array([1, 2, 3, 4, 5])\n",
    "print(array1)\n",
    "print(type(array1))"
   ]
  },
  {
   "attachments": {},
   "cell_type": "markdown",
   "metadata": {},
   "source": [
    "Dimensions in Arrays"
   ]
  },
  {
   "cell_type": "code",
   "execution_count": 10,
   "metadata": {},
   "outputs": [
    {
     "name": "stdout",
     "output_type": "stream",
     "text": [
      "42\n",
      "<class 'numpy.ndarray'>\n"
     ]
    }
   ],
   "source": [
    "#0-D arrays, these are also called Scalars. \n",
    "\n",
    "array2= np.array(42)\n",
    "print(array2)\n",
    "print(type(array2))"
   ]
  },
  {
   "cell_type": "code",
   "execution_count": 40,
   "metadata": {},
   "outputs": [
    {
     "name": "stdout",
     "output_type": "stream",
     "text": [
      "[1 2 3 4 5 6]\n"
     ]
    }
   ],
   "source": [
    "#1-D array. These arrays have 0-D arrays as the elements. These are the most basic and common arrays.\n",
    "\n",
    "array3= np.array([1, 2, 3, 4, 5, 6])\n",
    "print(array3)"
   ]
  },
  {
   "cell_type": "code",
   "execution_count": 37,
   "metadata": {},
   "outputs": [],
   "source": [
    "#2-D array. These arrays contain 1-D arrays as the elements. These are used to signify a matrix. (Also called 2nd order tensors)\n",
    "\n",
    "array4= np.array([[1, 2, 3], [4, 5, 6], [7, 8, 9], [10, 11, 12]])\n",
    "#print(array4)\n",
    "#print(array4.ndim)"
   ]
  },
  {
   "cell_type": "code",
   "execution_count": 12,
   "metadata": {},
   "outputs": [
    {
     "name": "stdout",
     "output_type": "stream",
     "text": [
      "[[[1 2 3]\n",
      "  [4 5 6]]\n",
      "\n",
      " [[1 2 3]\n",
      "  [4 5 6]]]\n"
     ]
    }
   ],
   "source": [
    "#3-D Array. These arrays have 2-D arrays as its elements\n",
    "\n",
    "array5= np.array([[[1, 2, 3], [4,5,6]], [[1, 2, 3], [4,5,6]]])\n",
    "print(array5)"
   ]
  },
  {
   "attachments": {},
   "cell_type": "markdown",
   "metadata": {},
   "source": [
    "Check the number of Dimensions that our ndarray object has using the .ndim attribute"
   ]
  },
  {
   "cell_type": "code",
   "execution_count": 13,
   "metadata": {},
   "outputs": [
    {
     "name": "stdout",
     "output_type": "stream",
     "text": [
      "0\n",
      "1\n",
      "2\n",
      "3\n"
     ]
    }
   ],
   "source": [
    "print(array2.ndim)\n",
    "print(array3.ndim)\n",
    "print(array4.ndim)\n",
    "print(array5.ndim)"
   ]
  },
  {
   "attachments": {},
   "cell_type": "markdown",
   "metadata": {},
   "source": [
    "Accessing the indexes of a np.array"
   ]
  },
  {
   "cell_type": "code",
   "execution_count": 21,
   "metadata": {},
   "outputs": [
    {
     "name": "stdout",
     "output_type": "stream",
     "text": [
      "[1 2 3]\n",
      "[4 5 6]\n",
      "[5 7 9]\n",
      "<class 'numpy.ndarray'>\n",
      "1\n"
     ]
    }
   ],
   "source": [
    "print(array4[0])\n",
    "print(array4[1])\n",
    "print(array4[0] + array4[1])\n",
    "new_var= array4[0] + array4[1]\n",
    "print(type(new_var))\n",
    "print(new_var.ndim)\n",
    "#add_arr= np.array([[1, 2, 3, 4], [5, 6, 7]])\n",
    "#print(add_arr[0] + add_arr[1])\n",
    "\n",
    "#string_arr= np.array([[\"sammi\", \"ben\"], [\"aikerim\", \"valerie\"]])\n",
    "#print(string_arr[0] + string_arr[1])"
   ]
  },
  {
   "attachments": {},
   "cell_type": "markdown",
   "metadata": {},
   "source": [
    "Slicing Numpy Arrays "
   ]
  },
  {
   "cell_type": "code",
   "execution_count": 25,
   "metadata": {},
   "outputs": [
    {
     "name": "stdout",
     "output_type": "stream",
     "text": [
      "[[ 7  8  9]\n",
      " [10 11 12]]\n"
     ]
    }
   ],
   "source": [
    "print(array4[2:])"
   ]
  },
  {
   "attachments": {},
   "cell_type": "markdown",
   "metadata": {},
   "source": [
    "Arthimetic Operations\n",
    "We can perform element-wise operations with scalar values\n",
    "\n",
    "\n",
    "Aggregate Functions\n",
    "We can perform aggregate\n",
    "-min\n",
    "-max\n",
    "-mean\n"
   ]
  },
  {
   "cell_type": "code",
   "execution_count": 26,
   "metadata": {},
   "outputs": [
    {
     "name": "stdout",
     "output_type": "stream",
     "text": [
      "[2 3 4 5 6]\n",
      "[ 2  4  6  8 10]\n",
      "[0.5 1.  1.5 2.  2.5]\n"
     ]
    }
   ],
   "source": [
    "sum= array3 + 1\n",
    "product= array3 * 2\n",
    "division= array3 / 2 \n",
    "\n",
    "print(sum)\n",
    "print(product)\n",
    "print(division)\n"
   ]
  },
  {
   "cell_type": "code",
   "execution_count": 30,
   "metadata": {},
   "outputs": [
    {
     "name": "stdout",
     "output_type": "stream",
     "text": [
      "15 1 5 3.0\n",
      "<class 'numpy.int32'>\n",
      "16\n",
      "25\n"
     ]
    }
   ],
   "source": [
    "#.mean()\n",
    "#.min()\n",
    "#.max()\n",
    "#.sum()\n",
    "test_int= 10\n",
    "sum= np.sum(array3)\n",
    "min= np.min(array3)\n",
    "max= np.max(array3)\n",
    "average= np.mean(array3)\n",
    "\n",
    "print(sum, min, max, average)\n",
    "print(type(sum))\n",
    "print(sum + min)\n",
    "print(sum + test_int)"
   ]
  },
  {
   "attachments": {},
   "cell_type": "markdown",
   "metadata": {},
   "source": [
    "Broadcasting with a 2D array"
   ]
  },
  {
   "cell_type": "code",
   "execution_count": 31,
   "metadata": {},
   "outputs": [
    {
     "name": "stdout",
     "output_type": "stream",
     "text": [
      "[[ 2  4  6]\n",
      " [ 8 10 12]\n",
      " [14 16 18]\n",
      " [20 22 24]]\n"
     ]
    }
   ],
   "source": [
    "multidimension_broadcast= array4 * 2\n",
    "print(multidimension_broadcast)"
   ]
  },
  {
   "attachments": {},
   "cell_type": "markdown",
   "metadata": {},
   "source": [
    "Shaping with Numpy Arrays\n",
    "- attribute shape "
   ]
  },
  {
   "cell_type": "code",
   "execution_count": 44,
   "metadata": {},
   "outputs": [
    {
     "name": "stdout",
     "output_type": "stream",
     "text": [
      "(4, 3)\n",
      "(2, 2, 3)\n",
      "(4, 3)\n",
      "(6,)\n"
     ]
    }
   ],
   "source": [
    "print(array4.shape)\n",
    "print(array5.shape)\n",
    "print(np.shape(array4))\n",
    "print(np.shape(array3))"
   ]
  },
  {
   "attachments": {},
   "cell_type": "markdown",
   "metadata": {},
   "source": [
    "Reshaping an Array\n"
   ]
  },
  {
   "cell_type": "code",
   "execution_count": 42,
   "metadata": {},
   "outputs": [
    {
     "name": "stdout",
     "output_type": "stream",
     "text": [
      "[[1 2 3]\n",
      " [4 5 6]]\n",
      "[[1 2 3]\n",
      " [4 5 6]]\n"
     ]
    }
   ],
   "source": [
    "print(np.reshape(array3, (2,3)))\n",
    "print(array3.reshape(2,3))\n",
    "\n"
   ]
  },
  {
   "attachments": {},
   "cell_type": "markdown",
   "metadata": {},
   "source": [
    "Transposing Arrays"
   ]
  },
  {
   "cell_type": "code",
   "execution_count": 48,
   "metadata": {},
   "outputs": [
    {
     "name": "stdout",
     "output_type": "stream",
     "text": [
      "[[ 1  2  3]\n",
      " [ 4  5  6]\n",
      " [ 7  8  9]\n",
      " [10 11 12]]\n",
      "[[ 1  4  7 10]\n",
      " [ 2  5  8 11]\n",
      " [ 3  6  9 12]]\n"
     ]
    }
   ],
   "source": [
    "#print(array3.transpose())\n",
    "print(array4)\n",
    "print(array4.transpose())"
   ]
  },
  {
   "attachments": {},
   "cell_type": "markdown",
   "metadata": {},
   "source": [
    "Boolean Operations"
   ]
  },
  {
   "cell_type": "code",
   "execution_count": 53,
   "metadata": {},
   "outputs": [
    {
     "name": "stdout",
     "output_type": "stream",
     "text": [
      "[False  True  True False  True]\n",
      "False\n"
     ]
    }
   ],
   "source": [
    "a= np.array([1, 2, 3, 4, 5])\n",
    "b= np.array([2, 2, 3, 3, 5])\n",
    "\n",
    "c= a == b\n",
    "d= np.array_equal(a, b)\n",
    "print(c)\n",
    "print(d)"
   ]
  },
  {
   "cell_type": "code",
   "execution_count": 52,
   "metadata": {},
   "outputs": [
    {
     "name": "stdout",
     "output_type": "stream",
     "text": [
      "[ True False False False]\n",
      "[ True  True  True False]\n"
     ]
    }
   ],
   "source": [
    "a= np.array([True, True, False, False])\n",
    "b= np.array([True, False, True, False])\n",
    "\n",
    "c= np.logical_and(a, b)\n",
    "d= np.logical_or(a, b)\n",
    "print(c)\n",
    "print(d)"
   ]
  },
  {
   "attachments": {},
   "cell_type": "markdown",
   "metadata": {},
   "source": [
    "Sorting"
   ]
  },
  {
   "cell_type": "code",
   "execution_count": 60,
   "metadata": {},
   "outputs": [
    {
     "name": "stdout",
     "output_type": "stream",
     "text": [
      "[31 10  8  7  6  5  3  2]\n",
      "None\n",
      "[ 2  3  5  6  7  8 10 31]\n"
     ]
    }
   ],
   "source": [
    "a= np.array([3, 10, 7, 6, 8 , 31, 2, 5])\n",
    "#descending hack\n",
    "b= np.sort(a)[::-1]\n",
    "c= a.sort()\n",
    "#print(a)\n",
    "print(b)\n",
    "print(c)\n",
    "\n",
    "print(a)"
   ]
  }
 ],
 "metadata": {
  "kernelspec": {
   "display_name": "Python 3",
   "language": "python",
   "name": "python3"
  },
  "language_info": {
   "codemirror_mode": {
    "name": "ipython",
    "version": 3
   },
   "file_extension": ".py",
   "mimetype": "text/x-python",
   "name": "python",
   "nbconvert_exporter": "python",
   "pygments_lexer": "ipython3",
   "version": "3.10.9"
  },
  "orig_nbformat": 4
 },
 "nbformat": 4,
 "nbformat_minor": 2
}
