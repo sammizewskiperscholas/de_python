{
  "nbformat": 4,
  "nbformat_minor": 0,
  "metadata": {
    "colab": {
      "provenance": []
    },
    "kernelspec": {
      "name": "python3",
      "display_name": "Python 3"
    },
    "language_info": {
      "name": "python"
    }
  },
  "cells": [
    {
      "cell_type": "markdown",
      "source": [
        "# **Dictionary Practice Excercises- Basics**\n",
        "\n",
        "Dictionaries are Python's implementation of a data structure that is more generally known as an associative array. A dictionary consists of a collection of key-value pairs. Each key-value pair maps the key to its associated value.\n",
        "<br></br>\n",
        "You can define a dictionary by enclosing a comma-separated list of key-value pairs in curly braces {}. A colon : separates each key from its associated value:\n",
        "\n",
        "\n"
      ],
      "metadata": {
        "id": "hLdVb0xtzLnJ"
      }
    },
    {
      "cell_type": "code",
      "source": [
        "d = {\n",
        "    <key>: <value>,\n",
        "    <key>: <value>,\n",
        "      .\n",
        "      .\n",
        "      .\n",
        "    <key>: <value>\n",
        "}"
      ],
      "metadata": {
        "id": "IFFcce61zi0N"
      },
      "execution_count": null,
      "outputs": []
    },
    {
      "cell_type": "markdown",
      "source": [
        "You can also construct a dictionary with the built-in dict() function. The argument to dict() should be a sequence of key-value pairs. A list of tuples works well for this:"
      ],
      "metadata": {
        "id": "WX26oSxdzpft"
      }
    },
    {
      "cell_type": "code",
      "source": [
        "d = dict([\n",
        "    (<key>, <value>),\n",
        "    (<key>, <value),\n",
        "      .\n",
        "      .\n",
        "      .\n",
        "    (<key>, <value>)\n",
        "])"
      ],
      "metadata": {
        "id": "ZSSo7IqZzyuz"
      },
      "execution_count": null,
      "outputs": []
    },
    {
      "cell_type": "markdown",
      "source": [
        "**Restrictions on Keys and Values**\n",
        "\n",
        "Keys must be an immutable type and can only appear in a dictionary once.\n",
        "\n",
        "Values have zero restrictions. A dictionary value can be any type of object Python supports."
      ],
      "metadata": {
        "id": "6Z2fczdC7Xdg"
      }
    },
    {
      "cell_type": "markdown",
      "source": [
        "**Problem 1**\n",
        "\n",
        "Use the following states and capitals to create dictionary objects.\n",
        "\n",
        ">Los Angeles, California\n",
        "\n",
        ">Albany, New York\n",
        "\n",
        ">Honolulu, Hawaii\n",
        "\n",
        ">Juneau, Alaska\n",
        "\n",
        ">Austin, Texas\n",
        "\n",
        "*   Create a Dictionary object with the {} bracket notation where the States are the Keys and the Capitals are the values.\n",
        "*   Create a Dictionary object with built-in dict() function where the States are the Keys and the Capitals are the values.\n",
        "*   Use the type() method to check the object type of each object\n",
        "*   Print each object to see all the key:value pairs in the dictionary\n",
        "\n"
      ],
      "metadata": {
        "id": "pKIBePLD0Hk5"
      }
    },
    {
      "cell_type": "code",
      "source": [],
      "metadata": {
        "id": "1J260o5X1nfI"
      },
      "execution_count": null,
      "outputs": []
    },
    {
      "cell_type": "markdown",
      "source": [
        "\n",
        "\n",
        "---\n",
        "\n"
      ],
      "metadata": {
        "id": "jDv9Lw3mcMOC"
      }
    },
    {
      "cell_type": "markdown",
      "source": [
        "# Accessing Keys and Values in a Dictionary\n",
        "\n",
        "The entries in the dictionary display in the order they were defined. But that is irrelevant when it comes to retrieving them. Dictionary elements are not accessed by numerical index like they are in Strings and Lists.\n",
        "<br></br>\n",
        "\n",
        "A value is retrieved from a dictionary by specifying its corresponding key in square brackets var_name[key_name].\n",
        "<br></br>\n",
        "\n",
        "*Note: If you try to access a key in this manner, and the key does not exist you will raise a 'KeyError'. We will use a different built-in method later on that handles this exception for us.*"
      ],
      "metadata": {
        "id": "m62n29aX2GDQ"
      }
    },
    {
      "cell_type": "code",
      "source": [
        "numbers= dict([\n",
        "    (1, 'One'),\n",
        "    (2, 'Two'),\n",
        "    (3, 'Three'),\n",
        "    (4, 'Four'),\n",
        "    (5, 'Five')\n",
        "])\n",
        "\n",
        "numbers[1]"
      ],
      "metadata": {
        "colab": {
          "base_uri": "https://localhost:8080/",
          "height": 36
        },
        "id": "wYTon0-A4IQV",
        "outputId": "7475b7ff-651b-42aa-9863-e0fcb7046b56"
      },
      "execution_count": null,
      "outputs": [
        {
          "output_type": "execute_result",
          "data": {
            "text/plain": [
              "'One'"
            ],
            "application/vnd.google.colaboratory.intrinsic+json": {
              "type": "string"
            }
          },
          "metadata": {},
          "execution_count": 1
        }
      ]
    },
    {
      "cell_type": "markdown",
      "source": [
        "Adding an entry to an existing dictionary is simply a matter of assigning a new key and value:"
      ],
      "metadata": {
        "id": "C-66Zwq_5etk"
      }
    },
    {
      "cell_type": "code",
      "source": [
        "numbers[6] = 'Six'\n",
        "numbers"
      ],
      "metadata": {
        "colab": {
          "base_uri": "https://localhost:8080/"
        },
        "id": "ff6ZauAy5kSL",
        "outputId": "e8c4348c-db42-402b-e59f-1db68fdb21e1"
      },
      "execution_count": null,
      "outputs": [
        {
          "output_type": "execute_result",
          "data": {
            "text/plain": [
              "{1: 'One', 2: 'Two', 3: 'Three', 4: 'Four', 5: 'Five', 6: 'Six'}"
            ]
          },
          "metadata": {},
          "execution_count": 2
        }
      ]
    },
    {
      "cell_type": "markdown",
      "source": [
        "If you want to update an entry, you can just assign a new value to an existing key."
      ],
      "metadata": {
        "id": "ygg8Io4Y5u3q"
      }
    },
    {
      "cell_type": "code",
      "source": [
        "numbers[1]= '1'\n",
        "numbers"
      ],
      "metadata": {
        "colab": {
          "base_uri": "https://localhost:8080/"
        },
        "id": "8NWEpbP75x1_",
        "outputId": "47312454-1a89-4647-a62d-364b5ce3fd7d"
      },
      "execution_count": null,
      "outputs": [
        {
          "output_type": "execute_result",
          "data": {
            "text/plain": [
              "{1: '1', 2: 'Two', 3: 'Three', 4: 'Four', 5: 'Five', 6: 'Six'}"
            ]
          },
          "metadata": {},
          "execution_count": 4
        }
      ]
    },
    {
      "cell_type": "markdown",
      "source": [],
      "metadata": {
        "id": "MpRtqAd85826"
      }
    },
    {
      "cell_type": "markdown",
      "source": [
        "To delete an entry, use the del statement, specifying the key to delete:"
      ],
      "metadata": {
        "id": "xknRNePc58-l"
      }
    },
    {
      "cell_type": "code",
      "source": [
        "del numbers[1]\n",
        "numbers"
      ],
      "metadata": {
        "colab": {
          "base_uri": "https://localhost:8080/"
        },
        "id": "phTTEl445_HJ",
        "outputId": "9328f20f-a39d-4aad-96ba-bd37fe0d3f6b"
      },
      "execution_count": null,
      "outputs": [
        {
          "output_type": "execute_result",
          "data": {
            "text/plain": [
              "{2: 'Two', 3: 'Three', 4: 'Four', 5: 'Five', 6: 'Six'}"
            ]
          },
          "metadata": {},
          "execution_count": 5
        }
      ]
    },
    {
      "cell_type": "markdown",
      "source": [
        "**Problem 2**\n",
        "\n",
        "Use a dictionary object from Problem 1 to complete the following:\n",
        "\n",
        "*   Retrieve the value for the key 'California'\n",
        "*   Add the State: Capital pair for Florida to the dictionary\n",
        "*   Update the capital of California to 'Sacremento'\n",
        "*   Delete Alaska from the Dictionary\n",
        "\n"
      ],
      "metadata": {
        "id": "NGjC6mg26FrD"
      }
    },
    {
      "cell_type": "code",
      "source": [],
      "metadata": {
        "id": "YPGI0LK260sE"
      },
      "execution_count": null,
      "outputs": []
    },
    {
      "cell_type": "markdown",
      "source": [
        "*Note: Although access to items in a dictionary does not depend on order, Python does guarantee that the order of items in a dictionary is preserved. When displayed, items will appear in the order they were defined, and iteration through the keys will occur in that order as well. Items added to a dictionary are added at the end. If items are deleted, the order of the remaining items is retained.*"
      ],
      "metadata": {
        "id": "61Ct1eJh6_1O"
      }
    },
    {
      "cell_type": "markdown",
      "source": [
        "\n",
        "\n",
        "---\n",
        "\n"
      ],
      "metadata": {
        "id": "_0oxzWjVcJd1"
      }
    },
    {
      "cell_type": "markdown",
      "source": [
        "# Dictionary Methods\n",
        "\n",
        "There are several built-in methods that can be used with dictionaries. The following are common methods used with Dictionary objects.\n",
        "<br></br>\n",
        "We will use the dictionary below for the examples in this section."
      ],
      "metadata": {
        "id": "BiX4I1Z4gQ-A"
      }
    },
    {
      "cell_type": "code",
      "source": [
        "grocery_list= {'fruits': ['apples', 'blueberries', 'strawberries'], \n",
        "               'vegetables': ['broccoli', 'cauliflower'], 'meat': 'chicken'}\n",
        "\n",
        "grocery_list"
      ],
      "metadata": {
        "colab": {
          "base_uri": "https://localhost:8080/"
        },
        "id": "e9PMgFuHhdf0",
        "outputId": "ab71d849-16b9-4c74-df1c-58400efc25e2"
      },
      "execution_count": null,
      "outputs": [
        {
          "output_type": "execute_result",
          "data": {
            "text/plain": [
              "{'fruits': ['apples', 'blueberries', 'strawberries'],\n",
              " 'vegetables': ['broccoli', 'cauliflower'],\n",
              " 'meat': 'chicken'}"
            ]
          },
          "metadata": {},
          "execution_count": 13
        }
      ]
    },
    {
      "cell_type": "markdown",
      "source": [
        "**.get()**\n",
        "\n",
        "The .get(key) method searches the dictionary for 'key 'and returns the associated value if it is found. If 'key' is not found, it returns None instead of raising an Exception.\n",
        "<br></br>\n",
        "Since the value of 'fruits' is a list, the entire list is returned.\n"
      ],
      "metadata": {
        "id": "n6cjN2swpvcu"
      }
    },
    {
      "cell_type": "code",
      "source": [
        "print(grocery_list.get('fruits'))\n",
        "print(grocery_list.get('dairy'))"
      ],
      "metadata": {
        "colab": {
          "base_uri": "https://localhost:8080/"
        },
        "id": "8hMaoXXqqM1S",
        "outputId": "78a6ff8d-4777-4d18-a413-9dfdf6e5699a"
      },
      "execution_count": null,
      "outputs": [
        {
          "output_type": "stream",
          "name": "stdout",
          "text": [
            "['apples', 'blueberries', 'strawberries']\n",
            "None\n"
          ]
        }
      ]
    },
    {
      "cell_type": "markdown",
      "source": [
        "\n",
        "\n",
        "---\n",
        "\n"
      ],
      "metadata": {
        "id": "kgpOwVbCsUp2"
      }
    },
    {
      "cell_type": "markdown",
      "source": [
        "**.items()**\n",
        "\n",
        "The .items() method returns a view object of a list of tuples containing the key-value pairs. The first item in each tuple is the key, and the second item is the key's value."
      ],
      "metadata": {
        "id": "tdK5CWiYqzhm"
      }
    },
    {
      "cell_type": "code",
      "source": [
        "grocery_list.items()"
      ],
      "metadata": {
        "colab": {
          "base_uri": "https://localhost:8080/"
        },
        "id": "SYAif-p1roc8",
        "outputId": "b6298f8a-720f-4937-9d67-e85fa710e1e2"
      },
      "execution_count": null,
      "outputs": [
        {
          "output_type": "execute_result",
          "data": {
            "text/plain": [
              "dict_items([('fruits', ['apples', 'blueberries', 'strawberries']), ('vegetables', ['broccoli', 'cauliflower']), ('meat', 'chicken')])"
            ]
          },
          "metadata": {},
          "execution_count": 4
        }
      ]
    },
    {
      "cell_type": "markdown",
      "source": [
        "We can wrap this item in a list, to access each tuple using indexes."
      ],
      "metadata": {
        "id": "3kRaIiz-rzSq"
      }
    },
    {
      "cell_type": "code",
      "source": [
        "print(list(grocery_list.items())[1][0])\n",
        "print(list(grocery_list.items())[1][1])\n",
        "print(list(grocery_list.items())[1][1][0])"
      ],
      "metadata": {
        "colab": {
          "base_uri": "https://localhost:8080/"
        },
        "id": "w-E30E7Hr77a",
        "outputId": "7cdec41b-16c7-48cc-ac72-73f7a819dd65"
      },
      "execution_count": null,
      "outputs": [
        {
          "output_type": "stream",
          "name": "stdout",
          "text": [
            "vegetables\n",
            "['broccoli', 'cauliflower']\n",
            "broccoli\n"
          ]
        }
      ]
    },
    {
      "cell_type": "markdown",
      "source": [
        "\n",
        "\n",
        "---\n",
        "\n"
      ],
      "metadata": {
        "id": "kDfAmLLosXPd"
      }
    },
    {
      "cell_type": "markdown",
      "source": [
        "**.keys()**\n",
        "\n",
        "The .keys() method returns a a view object of all the keys in a dictionary\n",
        "\n",
        "We can turn it into a list object to fully utilize the method."
      ],
      "metadata": {
        "id": "vReQ7AOctl-b"
      }
    },
    {
      "cell_type": "code",
      "source": [
        "print(grocery_list.keys())\n",
        "print(list(grocery_list.keys()))\n"
      ],
      "metadata": {
        "colab": {
          "base_uri": "https://localhost:8080/"
        },
        "id": "PetloFBNt2YR",
        "outputId": "0d351253-f391-4df8-98bc-f073de8dfe83"
      },
      "execution_count": null,
      "outputs": [
        {
          "output_type": "stream",
          "name": "stdout",
          "text": [
            "dict_keys(['fruits', 'vegetables', 'meat'])\n",
            "['fruits', 'vegetables', 'meat']\n"
          ]
        }
      ]
    },
    {
      "cell_type": "markdown",
      "source": [
        "\n",
        "\n",
        "---\n",
        "\n"
      ],
      "metadata": {
        "id": "V9eRMtnouhAc"
      }
    },
    {
      "cell_type": "markdown",
      "source": [
        "**.values()**\n",
        "\n",
        "The .values() method returns a view object. The view object contains the values of the dictionary, as a list.\n",
        "\n",
        "\n"
      ],
      "metadata": {
        "id": "XynX05Tiuimi"
      }
    },
    {
      "cell_type": "code",
      "source": [
        "print(grocery_list.values())\n",
        "print(list(grocery_list.values()))"
      ],
      "metadata": {
        "colab": {
          "base_uri": "https://localhost:8080/"
        },
        "id": "gooDwnOGuzEz",
        "outputId": "51035264-55cc-4ea4-abbb-4360e2fd4772"
      },
      "execution_count": null,
      "outputs": [
        {
          "output_type": "stream",
          "name": "stdout",
          "text": [
            "dict_values([['apples', 'blueberries', 'strawberries'], ['broccoli', 'cauliflower'], 'chicken'])\n",
            "[['apples', 'blueberries', 'strawberries'], ['broccoli', 'cauliflower'], 'chicken']\n"
          ]
        }
      ]
    },
    {
      "cell_type": "markdown",
      "source": [
        "\n",
        "\n",
        "---\n",
        "\n"
      ],
      "metadata": {
        "id": "m5GZ5fsLvDww"
      }
    },
    {
      "cell_type": "markdown",
      "source": [
        "**.pop()**\n",
        "\n",
        "The .pop() method of Python dictionary (dict) is used to remove the element from the dictionary by dict key and return the value related to the removed key . If a key does not exist in the dictionary and the default value is specified, then returns the default value; else throws a KeyError ."
      ],
      "metadata": {
        "id": "H9QYE7lEvFgd"
      }
    },
    {
      "cell_type": "code",
      "source": [
        "print(grocery_list.pop('meat'))\n",
        "print(grocery_list)\n"
      ],
      "metadata": {
        "colab": {
          "base_uri": "https://localhost:8080/"
        },
        "id": "QQ108yIwvbHi",
        "outputId": "c65b083f-0965-46f8-ae90-7f1b0b18ff26"
      },
      "execution_count": null,
      "outputs": [
        {
          "output_type": "stream",
          "name": "stdout",
          "text": [
            "chicken\n",
            "{'fruits': ['apples', 'blueberries', 'strawberries'], 'vegetables': ['broccoli', 'cauliflower']}\n"
          ]
        }
      ]
    },
    {
      "cell_type": "markdown",
      "source": [
        "\n",
        "\n",
        "---\n",
        "\n"
      ],
      "metadata": {
        "id": "c1Tzs32YwVE_"
      }
    },
    {
      "cell_type": "markdown",
      "source": [
        "**.popitem()**\n",
        "\n",
        "The .popitem() removes the last key-value pair added to a dictionary and returns it as a tuple."
      ],
      "metadata": {
        "id": "_sXwA6HKwWN3"
      }
    },
    {
      "cell_type": "code",
      "source": [
        "print(grocery_list.popitem())\n",
        "print(grocery_list)"
      ],
      "metadata": {
        "colab": {
          "base_uri": "https://localhost:8080/"
        },
        "id": "Frt5_JM3wrTW",
        "outputId": "739e37a4-1c6f-4319-c70b-aeefb8b82617"
      },
      "execution_count": null,
      "outputs": [
        {
          "output_type": "stream",
          "name": "stdout",
          "text": [
            "('vegetables', ['broccoli', 'cauliflower'])\n",
            "{'fruits': ['apples', 'blueberries', 'strawberries']}\n"
          ]
        }
      ]
    },
    {
      "cell_type": "markdown",
      "source": [
        "\n",
        "\n",
        "---\n",
        "\n"
      ],
      "metadata": {
        "id": "F20mpjhNzqo7"
      }
    },
    {
      "cell_type": "markdown",
      "source": [
        "# Looping through a Dictionary\n",
        "\n",
        "A python dictionary can be empty, contain just a few key:value pairs, or millions of pairs. An efficient way to access large amounts of data within a Python Dictionary is using a 'for loop'. We can loop through all of the key:value pairs, through its keys, or through its values.\n",
        "<br></br>\n",
        "We will use the dictionary below for the examples in this section. Each key is the name of a person and each value is their favorite video game."
      ],
      "metadata": {
        "id": "soS5mXRezrz6"
      }
    },
    {
      "cell_type": "code",
      "source": [
        "fav_vgame= {'Andrea': 'Stardew Valley', \n",
        "            'Bill': 'Super Smash Bros',\n",
        "            'Tom': 'God of War',\n",
        "            'Jose': 'Hogwarts Legacy',\n",
        "            'Mina': 'Pokemon Gold'}"
      ],
      "metadata": {
        "id": "YzRXaL790TQJ"
      },
      "execution_count": null,
      "outputs": []
    },
    {
      "cell_type": "markdown",
      "source": [
        "Without adding any methods to our Dictionary the default is to loop through the keys of our Dictionary. We only need one iterator in this for loop.\n",
        "<br></br>\n",
        "If we would like to to be more explicit in our code. We can add the .keys method to our Dictionary object to produce the same results."
      ],
      "metadata": {
        "id": "6FwogEyA3L5c"
      }
    },
    {
      "cell_type": "code",
      "source": [
        "for key in fav_vgame:\n",
        "  print(key)\n",
        "\n",
        "for key in fav_vgame.keys():\n",
        "  print(key.lower())\n"
      ],
      "metadata": {
        "colab": {
          "base_uri": "https://localhost:8080/"
        },
        "id": "P9w9Vq3x3WT4",
        "outputId": "e77d7ab4-d599-4609-c62c-3abc2e8d25aa"
      },
      "execution_count": null,
      "outputs": [
        {
          "output_type": "stream",
          "name": "stdout",
          "text": [
            "Andrea\n",
            "Bill\n",
            "Tom\n",
            "Jose\n",
            "Mina\n",
            "andrea\n",
            "bill\n",
            "tom\n",
            "jose\n",
            "mina\n"
          ]
        }
      ]
    },
    {
      "cell_type": "markdown",
      "source": [
        "If we wanted to loop through our keys in a particular order vs the order our dictionary was created, we can use the built-in sorted() function."
      ],
      "metadata": {
        "id": "zz-903OL3_b7"
      }
    },
    {
      "cell_type": "code",
      "source": [
        "for key in sorted(fav_vgame):\n",
        "  print(key)"
      ],
      "metadata": {
        "colab": {
          "base_uri": "https://localhost:8080/"
        },
        "id": "qye8QIQA4V0k",
        "outputId": "c48fb356-fa81-4a27-8b46-8ab8769a80f1"
      },
      "execution_count": null,
      "outputs": [
        {
          "output_type": "stream",
          "name": "stdout",
          "text": [
            "Andrea\n",
            "Bill\n",
            "Jose\n",
            "Mina\n",
            "Tom\n"
          ]
        }
      ]
    },
    {
      "cell_type": "markdown",
      "source": [
        "We can loop through just the values of a Dictionary by using the .values() method.\n",
        "<br></br>\n",
        "We only need one iterator in this for loop."
      ],
      "metadata": {
        "id": "J4eHIuVx4m8s"
      }
    },
    {
      "cell_type": "code",
      "source": [
        "for values in fav_vgame.values():\n",
        "  print(values)"
      ],
      "metadata": {
        "colab": {
          "base_uri": "https://localhost:8080/"
        },
        "id": "_HMtjAsk4uMU",
        "outputId": "666733be-5196-46e8-ece3-f0b88be02fa5"
      },
      "execution_count": null,
      "outputs": [
        {
          "output_type": "stream",
          "name": "stdout",
          "text": [
            "Stardew Valley\n",
            "Super Smash Bros\n",
            "God of War\n",
            "Hogwarts Legacy\n",
            "Pokemon Gold\n"
          ]
        }
      ]
    },
    {
      "cell_type": "markdown",
      "source": [
        "To loop through both the keys and values in a dictionary we need two iterators and can use the .items() method.\n",
        "\n",
        "We will use f-string to format our print statements. The \"\\n\" inserts a blank line in the first print call on each iteration of the for loop.\n",
        "\n",
        "As a reminder, these are just print statements. We are not returning anything to be used later in our code."
      ],
      "metadata": {
        "id": "Pe2UL2Za1VqZ"
      }
    },
    {
      "cell_type": "code",
      "source": [
        "for key, value in fav_vgame.items():\n",
        "  print(f\"\\nKey: {key}\") #the key inside the curly brackets comes from our key iterator in the for loop \n",
        "  print(f\"Value: {value}\") #the value inside the curly brackets comes from our value iterator in the for loop "
      ],
      "metadata": {
        "colab": {
          "base_uri": "https://localhost:8080/"
        },
        "id": "2gGNoEZO1km3",
        "outputId": "7383c59e-b324-4033-ccc2-d124bc5cc692"
      },
      "execution_count": null,
      "outputs": [
        {
          "output_type": "stream",
          "name": "stdout",
          "text": [
            "\n",
            "Key: Andrea\n",
            "Value: Stardew Valley\n",
            "\n",
            "Key: Bill\n",
            "Value: Super Smash Bros\n",
            "\n",
            "Key: Tom\n",
            "Value: God of War\n",
            "\n",
            "Key: Jose\n",
            "Value: Hogwarts Legacy\n",
            "\n",
            "Key: Mina\n",
            "Value: Pokemon Gold\n"
          ]
        }
      ]
    },
    {
      "cell_type": "markdown",
      "source": [
        "**Problem 3**\n",
        "\n",
        "Use the dictionary methods and for loop examples above to complete the following task:\n",
        "\n",
        "*   Create a dictionary object called 'playlist' with a minimum of 6 key:value pairs.\n",
        "\n",
        "> *   Each Key in the dictionary should be an artist name\n",
        "> *   Each Value should be a corresponding song by that artist\n",
        "\n",
        "*   Use a for loop to create a print statement that prints all the artists in the playlist\n",
        "*   Use a for loop to create a print statment that prints all the songs in the playlist\n",
        "*   Use a for loop to create a print statement that says: \"(Song Name) by (Artist) is in the current playlist.\"\n",
        "*  Remove the last Key:Value pair from the Dictionary\n",
        "*  Add the song \"Anti-Hero\" by Taylor Swift to your playlist.\n",
        "*  Overwrite one of your songs to have REMIX in front of the song title\n",
        "*  Define & call a function that will print all the artists and songs from the object you pass into it.\n",
        "\n",
        "\n",
        "\n",
        "\n",
        "\n"
      ],
      "metadata": {
        "id": "y6hJgEP66Knq"
      }
    },
    {
      "cell_type": "code",
      "source": [],
      "metadata": {
        "id": "Lh7XlwjC-Nrj"
      },
      "execution_count": null,
      "outputs": []
    }
  ]
}