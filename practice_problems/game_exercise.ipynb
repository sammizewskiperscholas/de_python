{
 "cells": [
  {
   "cell_type": "code",
   "execution_count": 2,
   "metadata": {},
   "outputs": [
    {
     "name": "stdout",
     "output_type": "stream",
     "text": [
      "The length of the word is 6\n",
      "The word in uppercase is  PYTHON\n",
      "The word in lowercase is python\n",
      "The letter t is found 1 times\n",
      "The substring th is found 1 times\n",
      "The reverse of the word is nohtyp\n"
     ]
    }
   ],
   "source": [
    "word=input(\"Enter a word: \")\n",
    "print(\"The length of the word is\",len(word))\n",
    "print(\"The word in uppercase is \",word.upper())\n",
    "print(\"The word in lowercase is\",word.lower())\n",
    "letter=input(\"Enter a letter: \")\n",
    "print(\"The letter {} is found {} times\".format(letter,word.count(letter)))\n",
    "sub=input(\"Enter a substring: \")\n",
    "print(\"The substring {} is found {} times\".format(sub,word.count(sub)))\n",
    "reverse_string=word[::-1]\n",
    "print(\"The reverse of the word is\",reverse_string)\n",
    "start=int(input(\"Enter starting index: \"))\n",
    "stop=int(input(\"Enter ending index: \"))\n",
    "print(\"The sliced word is\",word[start:stop])\n"
   ]
  },
  {
   "cell_type": "code",
   "execution_count": 7,
   "metadata": {},
   "outputs": [
    {
     "name": "stdout",
     "output_type": "stream",
     "text": [
      "Replaced:  xython\n"
     ]
    }
   ],
   "source": [
    "#word='python'\n",
    "old=input(\"Enter a character to replace: \")\n",
    "new=input(\"Enter the replacement character: \")\n",
    "print(\"Replaced: \",word.replace(old,new))"
   ]
  },
  {
   "cell_type": "code",
   "execution_count": 9,
   "metadata": {},
   "outputs": [
    {
     "name": "stdout",
     "output_type": "stream",
     "text": [
      "pythonhello\n"
     ]
    }
   ],
   "source": [
    "#word='python'\n",
    "secondword=input(\"Enter a second word: \")\n",
    "concatenated=word+secondword\n",
    "print(concatenated)"
   ]
  },
  {
   "cell_type": "code",
   "execution_count": 12,
   "metadata": {},
   "outputs": [
    {
     "name": "stdout",
     "output_type": "stream",
     "text": [
      "The string is not palindrome\n",
      "Is the word valid python identifier?  True\n"
     ]
    }
   ],
   "source": [
    "word='python'\n",
    "reverse_string=word[::-1]\n",
    "if reverse_string==word:\n",
    "    print(\"The string is palindrome.\")\n",
    "else:\n",
    "    print(\"The string is not palindrome\")\n",
    "\n",
    "print(\"Is the word valid python identifier? \",word.isidentifier())"
   ]
  },
  {
   "cell_type": "markdown",
   "metadata": {},
   "source": []
  }
 ],
 "metadata": {
  "kernelspec": {
   "display_name": "Python 3",
   "language": "python",
   "name": "python3"
  },
  "language_info": {
   "codemirror_mode": {
    "name": "ipython",
    "version": 3
   },
   "file_extension": ".py",
   "mimetype": "text/x-python",
   "name": "python",
   "nbconvert_exporter": "python",
   "pygments_lexer": "ipython3",
   "version": "3.10.4"
  },
  "orig_nbformat": 4
 },
 "nbformat": 4,
 "nbformat_minor": 2
}
