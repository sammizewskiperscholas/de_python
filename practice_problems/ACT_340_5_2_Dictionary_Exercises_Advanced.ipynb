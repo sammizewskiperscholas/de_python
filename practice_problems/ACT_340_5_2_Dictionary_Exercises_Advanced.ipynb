{
  "nbformat": 4,
  "nbformat_minor": 0,
  "metadata": {
    "colab": {
      "provenance": []
    },
    "kernelspec": {
      "name": "python3",
      "display_name": "Python 3"
    },
    "language_info": {
      "name": "python"
    }
  },
  "cells": [
    {
      "cell_type": "markdown",
      "source": [
        "# Dictionary Practice Excercises- Advanced\n",
        "\n",
        "Complete the following practice excercises below to build up your skills with manipulating dictionaries.\n",
        "\n"
      ],
      "metadata": {
        "id": "fxJ6r0UtCx8d"
      }
    },
    {
      "cell_type": "markdown",
      "source": [
        "**Problem 1**\n",
        "\n",
        "* Add the following key/value pair to the dictionary below.\n",
        "  \"oceans\": [\"Pacific\", \"Atlantic\", \"Indian\", \"Arctic\"] \n",
        "\n"
      ],
      "metadata": {
        "id": "SPZ5wKD54OV8"
      }
    },
    {
      "cell_type": "code",
      "source": [
        "geography= {\"continets\": [\"North America\", \"South America\", \"Africa\", \"Antarctica\", \"Australia\", \"Asia\", \"Europe\"]}"
      ],
      "metadata": {
        "id": "su6Dtm2l7moD"
      },
      "execution_count": null,
      "outputs": []
    },
    {
      "cell_type": "markdown",
      "source": [
        "**Problem 2**\n",
        "\n",
        "\n",
        "\n",
        "*   Use the Dictionary below\n",
        "*   Change the value for the height key to 72 inches\n",
        "\n"
      ],
      "metadata": {
        "id": "lE7F2U9L75_T"
      }
    },
    {
      "cell_type": "code",
      "source": [
        "patient= {\"name\": \"John Doe\", \"age\": 25, \"height\": 64, \"symptoms\": \"cough\" }"
      ],
      "metadata": {
        "id": "Dne-3hDU8lSA"
      },
      "execution_count": null,
      "outputs": []
    },
    {
      "cell_type": "markdown",
      "source": [
        "**Problem 3**\n",
        "\n",
        "*   Use the same dictionary as above\n",
        "*   Use a Class method to generate a list of tuples that consists of each key:value pair\n",
        "\n"
      ],
      "metadata": {
        "id": "iRqGQjLZ9aDq"
      }
    },
    {
      "cell_type": "code",
      "source": [],
      "metadata": {
        "id": "ej-LPcQw9tlH"
      },
      "execution_count": null,
      "outputs": []
    },
    {
      "cell_type": "markdown",
      "source": [
        "**Problem 4**\n",
        "\n",
        "\n",
        "\n",
        "*   Use the same dictionary as above\n",
        "*   Use a Class method to print the value of \"name'\n",
        "\n"
      ],
      "metadata": {
        "id": "30gd_UKX9xRj"
      }
    },
    {
      "cell_type": "code",
      "source": [],
      "metadata": {
        "id": "jtVXJwpp-E2D"
      },
      "execution_count": null,
      "outputs": []
    },
    {
      "cell_type": "markdown",
      "source": [
        "**Problem 5**\n",
        "\n",
        "\n",
        "\n",
        "*   Use the same dictionary as above\n",
        "*   Use a Class method to look for the key \"weight\", and supply a default arguement of 150 if the value is not found\n",
        "\n"
      ],
      "metadata": {
        "id": "xEHhz1kf-Fcl"
      }
    },
    {
      "cell_type": "code",
      "source": [],
      "metadata": {
        "id": "lds025UR-jpK"
      },
      "execution_count": null,
      "outputs": []
    },
    {
      "cell_type": "markdown",
      "source": [
        "**Problem 6**\n",
        "\n",
        "\n",
        "*   Use the same dictionary as above\n",
        "*   Use a Class method to remove everything from the dictionary\n",
        "\n",
        "\n"
      ],
      "metadata": {
        "id": "AdApgIMi-moT"
      }
    },
    {
      "cell_type": "code",
      "source": [],
      "metadata": {
        "id": "a7YXxpV7_O1F"
      },
      "execution_count": null,
      "outputs": []
    },
    {
      "cell_type": "markdown",
      "source": [
        "**Problem 7**\n",
        "\n",
        "\n",
        "\n",
        "*   Use the dictionary below\n",
        "*   Use a for loop to move through the dictionary.\n",
        "*   If the value is above 2000, add the value to a new list minus 500\n",
        "*   Example: If the value is 2500, 2000 would be added to the new list\n",
        "\n"
      ],
      "metadata": {
        "id": "9ApUQ9qn_P01"
      }
    },
    {
      "cell_type": "code",
      "source": [
        "stock_qty= {\"cookies\": 3200, \"bread\": 500, \"crackers\": 52000, \"chips\": 2000}"
      ],
      "metadata": {
        "id": "045nPKTs_6qg"
      },
      "execution_count": null,
      "outputs": []
    },
    {
      "cell_type": "markdown",
      "source": [
        "**Problem 8 **\n",
        "\n",
        "\n",
        "*   Use the list I did below\n",
        "*   Loop through the list\n",
        "*   Create a dictionary to keep track of how many times a number appears in a list\n",
        "*   Print the final dictionary\n",
        "\n",
        "*   Things to consider:\n",
        "\n",
        ">* How to check if an integer already exists in the new dictionary\n",
        ">* What is the first value when the key gets added to the dictionary?\n",
        ">* How to increase the value of each key on each iteration of the loop?\n",
        "\n",
        "\n",
        "\n"
      ],
      "metadata": {
        "id": "3TcqNBOGBGTP"
      }
    },
    {
      "cell_type": "code",
      "source": [
        "list= [10, 9, 88, 20, 9, 20, 22, 101, 68, 10, 108, 33, 9, 53]"
      ],
      "metadata": {
        "id": "mfgV0KeYCOuO"
      },
      "execution_count": null,
      "outputs": []
    }
  ]
}