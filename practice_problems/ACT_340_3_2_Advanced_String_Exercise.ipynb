{
  "cells": [
    {
      "cell_type": "markdown",
      "metadata": {
        "id": "cUylAN2Ilryc"
      },
      "source": [
        "# String Excercises- Advanced\n",
        "\n",
        "Complete the following practice excercises below to build up your skills with manipulating strings."
      ]
    },
    {
      "cell_type": "markdown",
      "metadata": {
        "id": "27IbcjVcl6Bh"
      },
      "source": [
        "**Problem 1**\n",
        "\n",
        "Create a new string with the following sentence:\n",
        "\n",
        "“You learn more from failure than from success.\"\n",
        "<br></br>\n",
        "* Use the 1st, 4th, and last charachter to create a new string."
      ]
    },
    {
      "cell_type": "code",
      "execution_count": 26,
      "metadata": {
        "id": "Swq_joOAmZB2"
      },
      "outputs": [
        {
          "name": "stdout",
          "output_type": "stream",
          "text": [
            "Y .\n"
          ]
        }
      ],
      "source": [
        "string1=\"You learn more from failure than from success.\"\n",
        "new_string=string1[0]+string1[3]+string1[-1]\n",
        "print(new_string)"
      ]
    },
    {
      "cell_type": "markdown",
      "metadata": {
        "id": "mGPUZkRTmoqN"
      },
      "source": [
        "**Problem 2**\n",
        "\n",
        "* Use the same string variable from above\n",
        "* Use the replace() method to replace the \".\" with an \"!\""
      ]
    },
    {
      "cell_type": "code",
      "execution_count": 27,
      "metadata": {
        "id": "Seg9HXsFnHn-"
      },
      "outputs": [
        {
          "data": {
            "text/plain": [
              "'You learn more from failure than from success!'"
            ]
          },
          "execution_count": 27,
          "metadata": {},
          "output_type": "execute_result"
        }
      ],
      "source": [
        "string1.replace('.','!')"
      ]
    },
    {
      "cell_type": "markdown",
      "metadata": {
        "id": "ZdxYpOtrnIz8"
      },
      "source": [
        "**Problem 3**\n",
        "\n",
        "*   Use the string variable below and create a new variable that has all of the charachters from the original string as lowercase charachters\n",
        "\n",
        "\n"
      ]
    },
    {
      "cell_type": "code",
      "execution_count": 28,
      "metadata": {
        "id": "fciZlwkwnjNb"
      },
      "outputs": [
        {
          "name": "stdout",
          "output_type": "stream",
          "text": [
            "“when you change your thoughts, remember to also change your world.”\n"
          ]
        }
      ],
      "source": [
        "new_str= \"“WHEN YOU Change your thougHts, remember to ALSO change your world.”\"\n",
        "new=new_str.lower()\n",
        "print(new)"
      ]
    },
    {
      "cell_type": "markdown",
      "metadata": {
        "id": "cip5r4CRn3G4"
      },
      "source": [
        "**Problem 4**\n",
        "\n",
        "\n",
        "*   Take the new_str variable from above and make all of charachters uppercase\n",
        "\n",
        "\n"
      ]
    },
    {
      "cell_type": "code",
      "execution_count": 29,
      "metadata": {
        "id": "nFnFU3-ooHvA"
      },
      "outputs": [
        {
          "data": {
            "text/plain": [
              "'“WHEN YOU CHANGE YOUR THOUGHTS, REMEMBER TO ALSO CHANGE YOUR WORLD.”'"
            ]
          },
          "execution_count": 29,
          "metadata": {},
          "output_type": "execute_result"
        }
      ],
      "source": [
        "new_str.upper()"
      ]
    },
    {
      "cell_type": "markdown",
      "metadata": {
        "id": "HzCVplcwoPxU"
      },
      "source": [
        "**Problem 5**\n",
        "\n",
        "* Use the string variable below and the startswith() method to check and see if the string starts with the charachter \"Z\".\n",
        "* Check if it starts with the charachter \"t\"\n"
      ]
    },
    {
      "cell_type": "code",
      "execution_count": 30,
      "metadata": {
        "id": "1TAzCILcovZk"
      },
      "outputs": [
        {
          "name": "stdout",
          "output_type": "stream",
          "text": [
            "False\n",
            "False\n"
          ]
        }
      ],
      "source": [
        "new_str= \"There are no traffic jams along the extra mile.\"\n",
        "print(new_str.startswith('Z'))\n",
        "print(new_str.startswith('t'))"
      ]
    },
    {
      "cell_type": "markdown",
      "metadata": {
        "id": "U5iHAc6MoubS"
      },
      "source": [
        "**Problem 6**\n",
        "\n",
        "\n",
        "\n",
        "*   Use the same new_str variable and the index() method to identify the index of charachter \"j\"\n",
        "\n",
        "\n"
      ]
    },
    {
      "cell_type": "code",
      "execution_count": 31,
      "metadata": {
        "id": "w3MhXXFxpTil"
      },
      "outputs": [
        {
          "data": {
            "text/plain": [
              "21"
            ]
          },
          "execution_count": 31,
          "metadata": {},
          "output_type": "execute_result"
        }
      ],
      "source": [
        "new_str.index('j')"
      ]
    },
    {
      "cell_type": "markdown",
      "metadata": {
        "id": "63odwi1_pU-h"
      },
      "source": [
        "**Problem 7**\n",
        "\n",
        "*   Use the same new_str variable\n",
        "*   Use the count() method to find the number of times \"t\" and \"o\" appear in a string\n",
        "* Create a print statement that has both results in one statement. You can use string concatenation, fstring, or any other way you can think of!\n",
        "\n"
      ]
    },
    {
      "cell_type": "code",
      "execution_count": 44,
      "metadata": {
        "id": "2okBBd33p6O-"
      },
      "outputs": [
        {
          "name": "stdout",
          "output_type": "stream",
          "text": [
            "the count of t and o are 3 and 2\n"
          ]
        }
      ],
      "source": [
        "print(\"the count of t and o are\",new_str.count('t'),'and',new_str.count('o'))"
      ]
    },
    {
      "cell_type": "markdown",
      "metadata": {
        "id": "u1UpWwGjp_qu"
      },
      "source": [
        "**Problem 8**\n",
        "\n",
        "* Using the string below, find the length of the given string."
      ]
    },
    {
      "cell_type": "code",
      "execution_count": 45,
      "metadata": {
        "id": "SAErNiQXqNiq"
      },
      "outputs": [
        {
          "name": "stdout",
          "output_type": "stream",
          "text": [
            "13\n"
          ]
        }
      ],
      "source": [
        "greeting= \"Good Morning!\"\n",
        "print(len(greeting))"
      ]
    },
    {
      "cell_type": "markdown",
      "metadata": {
        "id": "PlVi5hw8q6ha"
      },
      "source": [
        "**Problem 9**\n",
        "\n",
        "\n",
        "\n",
        "*   Use the string below, and documentation on string methods to find if all the charachters in a string are alpha charachters.\n",
        "\n"
      ]
    },
    {
      "cell_type": "code",
      "execution_count": 46,
      "metadata": {
        "id": "jBsKOU-drQdV"
      },
      "outputs": [
        {
          "data": {
            "text/plain": [
              "True"
            ]
          },
          "execution_count": 46,
          "metadata": {},
          "output_type": "execute_result"
        }
      ],
      "source": [
        "alphabet= \"abcdefghijklmnopqrstuvwxyz\"\n",
        "alphabet.isalpha()"
      ]
    },
    {
      "cell_type": "markdown",
      "metadata": {
        "id": "34l2TSFMrYvv"
      },
      "source": [
        "**Problem 10**\n",
        "\n",
        "Use the string below to complete the following:\n",
        "\n",
        "\n",
        "*   Use the find() method for the value \"y\"\n",
        "*   Use the index() method for the value \"y\"\n",
        "*  Create a comment explaining the difference between the two methods\n",
        "\n",
        "\n",
        "\n"
      ]
    },
    {
      "cell_type": "code",
      "execution_count": 47,
      "metadata": {
        "id": "8ki6bRY-sHBf"
      },
      "outputs": [
        {
          "data": {
            "text/plain": [
              "-1"
            ]
          },
          "execution_count": 47,
          "metadata": {},
          "output_type": "execute_result"
        }
      ],
      "source": [
        "learning= \"Learning is fun!\"\n",
        "learning.find('y')\n",
        "#learning.index('y')\n",
        "# find method returns -1 if the string is not found and\n",
        "#index method throws error if the string is not found\n"
      ]
    }
  ],
  "metadata": {
    "colab": {
      "provenance": []
    },
    "kernelspec": {
      "display_name": "Python 3",
      "name": "python3"
    },
    "language_info": {
      "codemirror_mode": {
        "name": "ipython",
        "version": 3
      },
      "file_extension": ".py",
      "mimetype": "text/x-python",
      "name": "python",
      "nbconvert_exporter": "python",
      "pygments_lexer": "ipython3",
      "version": "3.10.4"
    }
  },
  "nbformat": 4,
  "nbformat_minor": 0
}
