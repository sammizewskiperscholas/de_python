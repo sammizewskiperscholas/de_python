{
  "cells": [
    {
      "cell_type": "markdown",
      "metadata": {
        "id": "cUylAN2Ilryc"
      },
      "source": [
        "# String Excercises- Advanced\n",
        "\n",
        "Complete the following practice excercises below to build up your skills with manipulating strings."
      ]
    },
    {
      "cell_type": "markdown",
      "metadata": {
        "id": "27IbcjVcl6Bh"
      },
      "source": [
        "**Problem 1**\n",
        "\n",
        "Create a new string with the following sentence:\n",
        "\n",
        "“You learn more from failure than from success.\"\n",
        "<br></br>\n",
        "* Use the 1st, 4th, and last charachter to create a new string."
      ]
    },
    {
      "cell_type": "code",
      "execution_count": null,
      "metadata": {
        "id": "Swq_joOAmZB2"
      },
      "outputs": [],
      "source": [
        "string1=\"You learn more from failure than from success.\"\n",
        "new_string=string1[0]+string1[3]+string1[-1]\n",
        "print(new_string)"
      ]
    },
    {
      "cell_type": "markdown",
      "metadata": {
        "id": "mGPUZkRTmoqN"
      },
      "source": [
        "**Problem 2**\n",
        "\n",
        "* Use the same string variable from above\n",
        "* Use the replace() method to replace the \".\" with an \"!\""
      ]
    },
    {
      "cell_type": "code",
      "execution_count": null,
      "metadata": {
        "id": "Seg9HXsFnHn-"
      },
      "outputs": [],
      "source": [
        "string1.replace('.','!')"
      ]
    },
    {
      "cell_type": "markdown",
      "metadata": {
        "id": "ZdxYpOtrnIz8"
      },
      "source": [
        "**Problem 3**\n",
        "\n",
        "*   Use the string variable below and create a new variable that has all of the charachters from the original string as lowercase charachters\n",
        "\n",
        "\n"
      ]
    },
    {
      "cell_type": "code",
      "execution_count": null,
      "metadata": {
        "id": "fciZlwkwnjNb"
      },
      "outputs": [],
      "source": [
        "new_str= \"“WHEN YOU Change your thougHts, remember to ALSO change your world.”\"\n",
        "new=new_str.lower()\n",
        "print(new)"
      ]
    },
    {
      "cell_type": "markdown",
      "metadata": {
        "id": "cip5r4CRn3G4"
      },
      "source": [
        "**Problem 4**\n",
        "\n",
        "\n",
        "*   Take the new_str variable from above and make all of charachters uppercase\n",
        "\n",
        "\n"
      ]
    },
    {
      "cell_type": "code",
      "execution_count": null,
      "metadata": {
        "id": "nFnFU3-ooHvA"
      },
      "outputs": [],
      "source": []
    },
    {
      "cell_type": "markdown",
      "metadata": {
        "id": "HzCVplcwoPxU"
      },
      "source": [
        "**Problem 5**\n",
        "\n",
        "* Use the string variable below and the startswith() method to check and see if the string starts with the charachter \"Z\".\n",
        "* Check if it starts with the charachter \"t\"\n"
      ]
    },
    {
      "cell_type": "code",
      "execution_count": null,
      "metadata": {
        "id": "1TAzCILcovZk"
      },
      "outputs": [],
      "source": [
        "new_str= \"There are no traffic jams along the extra mile.\""
      ]
    },
    {
      "cell_type": "markdown",
      "metadata": {
        "id": "U5iHAc6MoubS"
      },
      "source": [
        "**Problem 6**\n",
        "\n",
        "\n",
        "\n",
        "*   Use the same new_str variable and the index() method to identify the index of charachter \"j\"\n",
        "\n",
        "\n"
      ]
    },
    {
      "cell_type": "code",
      "execution_count": null,
      "metadata": {
        "id": "w3MhXXFxpTil"
      },
      "outputs": [],
      "source": []
    },
    {
      "cell_type": "markdown",
      "metadata": {
        "id": "63odwi1_pU-h"
      },
      "source": [
        "**Problem 7**\n",
        "\n",
        "*   Use the same new_str variable\n",
        "*   Use the count() method to find the number of times \"t\" and \"o\" appear in a string\n",
        "* Create a print statement that has both results in one statement. You can use string concatenation, fstring, or any other way you can think of!\n",
        "\n"
      ]
    },
    {
      "cell_type": "code",
      "execution_count": null,
      "metadata": {
        "id": "2okBBd33p6O-"
      },
      "outputs": [],
      "source": []
    },
    {
      "cell_type": "markdown",
      "metadata": {
        "id": "u1UpWwGjp_qu"
      },
      "source": [
        "**Problem 8**\n",
        "\n",
        "* Using the string below, find the length of the given string."
      ]
    },
    {
      "cell_type": "code",
      "execution_count": null,
      "metadata": {
        "id": "SAErNiQXqNiq"
      },
      "outputs": [],
      "source": [
        "greeting= \"Good Morning!\""
      ]
    },
    {
      "cell_type": "markdown",
      "metadata": {
        "id": "PlVi5hw8q6ha"
      },
      "source": [
        "**Problem 9**\n",
        "\n",
        "\n",
        "\n",
        "*   Use the string below, and documentation on string methods to find if all the charachters in a string are alpha charachters.\n",
        "\n"
      ]
    },
    {
      "cell_type": "code",
      "execution_count": null,
      "metadata": {
        "id": "jBsKOU-drQdV"
      },
      "outputs": [],
      "source": [
        "alphabet= \"abcdefghijklmnopqrstuvwxyz\""
      ]
    },
    {
      "cell_type": "markdown",
      "metadata": {
        "id": "34l2TSFMrYvv"
      },
      "source": [
        "**Problem 10**\n",
        "\n",
        "Use the string below to complete the following:\n",
        "\n",
        "\n",
        "*   Use the find() method for the value \"y\"\n",
        "*   Use the index() method for the value \"y\"\n",
        "*  Create a comment explaining the difference between the two methods\n",
        "\n",
        "\n",
        "\n"
      ]
    },
    {
      "cell_type": "code",
      "execution_count": null,
      "metadata": {
        "id": "8ki6bRY-sHBf"
      },
      "outputs": [],
      "source": [
        "learning= \"Learning is fun!\""
      ]
    }
  ],
  "metadata": {
    "colab": {
      "provenance": []
    },
    "kernelspec": {
      "display_name": "Python 3",
      "name": "python3"
    },
    "language_info": {
      "name": "python"
    }
  },
  "nbformat": 4,
  "nbformat_minor": 0
}
