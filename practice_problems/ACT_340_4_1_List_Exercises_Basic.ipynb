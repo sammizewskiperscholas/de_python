{
  "nbformat": 4,
  "nbformat_minor": 0,
  "metadata": {
    "colab": {
      "provenance": []
    },
    "kernelspec": {
      "name": "python3",
      "display_name": "Python 3"
    },
    "language_info": {
      "name": "python"
    }
  },
  "cells": [
    {
      "cell_type": "markdown",
      "source": [
        "# List Excercises- Basic\n",
        "\n",
        "A list is a collection of items in a particular order. Lists are mutable, which means that they can be changed in their original place in memory.\n",
        "\n",
        "Unlike arrays in other programming languages, lists can hold items of different data types. Python does NOT have arrays as a native data structure. We can use other libraries to use arrays when we need to optimize speed and mathematic calculations.\n",
        "<br></br>\n",
        "Lists in Python are noted with square brackets when used after an \"=\", with commas separating the individual elements in the list."
      ],
      "metadata": {
        "id": "E5UPDwhQSD9g"
      }
    },
    {
      "cell_type": "code",
      "source": [
        "new_list= ['apple', 'orange', 12, ['peanut', 'butter', 'jelly', 'time']]\n",
        "\n",
        "print(new_list)"
      ],
      "metadata": {
        "colab": {
          "base_uri": "https://localhost:8080/"
        },
        "id": "1qGaGWR-mV0u",
        "outputId": "186b6318-5288-403c-fc40-fe92676caa1f"
      },
      "execution_count": 22,
      "outputs": [
        {
          "output_type": "stream",
          "name": "stdout",
          "text": [
            "['apple', 'orange', 12, ['peanut', 'butter', 'jelly', 'time']]\n"
          ]
        }
      ]
    },
    {
      "cell_type": "markdown",
      "source": [
        "**Indexing & Slicing**\n",
        "\n",
        "We can access indivdual elements of a list is the same as accessing them from a string, by using their index."
      ],
      "metadata": {
        "id": "jKjDKFSzJI15"
      }
    },
    {
      "cell_type": "code",
      "source": [
        "print(new_list[2])\n",
        "print(new_list[-1])"
      ],
      "metadata": {
        "colab": {
          "base_uri": "https://localhost:8080/"
        },
        "id": "ctfeYYp8JrEZ",
        "outputId": "355fb93a-6526-4f08-bdb4-b24ca10baebe"
      },
      "execution_count": 24,
      "outputs": [
        {
          "output_type": "stream",
          "name": "stdout",
          "text": [
            "12\n",
            "['peanut', 'butter', 'jelly', 'time']\n"
          ]
        }
      ]
    },
    {
      "cell_type": "markdown",
      "source": [
        "Slicing is available for lists. We use the same syntax of start:stop:step when slicing a list. We can build onto our understanding of slices by looping through just a slice of our list."
      ],
      "metadata": {
        "id": "RGf_mZR8J6ht"
      }
    },
    {
      "cell_type": "code",
      "source": [
        "print(new_list[0:3])\n",
        "\n",
        "for item in new_list[0:3]:\n",
        "  print(item)"
      ],
      "metadata": {
        "colab": {
          "base_uri": "https://localhost:8080/"
        },
        "id": "n1gL6EKdKDe4",
        "outputId": "6f9b50d1-a417-4224-f23e-ec49a4e1c032"
      },
      "execution_count": 28,
      "outputs": [
        {
          "output_type": "stream",
          "name": "stdout",
          "text": [
            "['apple', 'orange', 12]\n",
            "apple\n",
            "orange\n",
            "12\n"
          ]
        }
      ]
    },
    {
      "cell_type": "markdown",
      "source": [
        "The syntax for modifying elements to a list is similar to accessing elements in a list through indexing"
      ],
      "metadata": {
        "id": "wXIZoFqzwqg8"
      }
    },
    {
      "cell_type": "code",
      "source": [
        "new_list[0]= 'banana'\n",
        "print(new_list)"
      ],
      "metadata": {
        "colab": {
          "base_uri": "https://localhost:8080/"
        },
        "id": "r2JhyA3hw2po",
        "outputId": "746b8324-03ca-42dd-d737-a8a2547e6efd"
      },
      "execution_count": 3,
      "outputs": [
        {
          "output_type": "stream",
          "name": "stdout",
          "text": [
            "['banana', 'orange', 12, ['peanut', 'butter', 'jelly', 'time']]\n"
          ]
        }
      ]
    },
    {
      "cell_type": "markdown",
      "source": [
        "**Adding Elements to a List**\n",
        "\n",
        "There are several ways to add new elements to a list.\n",
        "\n",
        "The simplest way to add a new element to a list is to use the append() method. This method adds a new element to the end of a list. \n",
        "<br></br>\n",
        "append() makes it easy to build lists dynamically, especially when appending in a for loop. "
      ],
      "metadata": {
        "id": "Hgc8OqKkxkdb"
      }
    },
    {
      "cell_type": "code",
      "source": [
        "new_list.append(23)\n",
        "print(new_list)\n",
        "\n",
        "list1= []\n",
        "\n",
        "for i in range(10):\n",
        "  list1.append(i)\n",
        "\n",
        "print(list1)"
      ],
      "metadata": {
        "colab": {
          "base_uri": "https://localhost:8080/"
        },
        "id": "WVYOM8uRxzW6",
        "outputId": "8fc40d07-6b61-48a1-bf95-4ef75d475880"
      },
      "execution_count": 5,
      "outputs": [
        {
          "output_type": "stream",
          "name": "stdout",
          "text": [
            "['banana', 'orange', 12, ['peanut', 'butter', 'jelly', 'time'], 23, 23]\n",
            "[0, 1, 2, 3, 4, 5, 6, 7, 8, 9]\n"
          ]
        }
      ]
    },
    {
      "cell_type": "markdown",
      "source": [
        "You can also add a new element at any position in a list by using the insert() method.\n",
        "\n",
        "We can do this by specifying the index of the new element and its value. The insert() method shifts all previous values one position to the right."
      ],
      "metadata": {
        "id": "JUUwPTN6zWdv"
      }
    },
    {
      "cell_type": "code",
      "source": [
        "new_list.insert(0, 'grape')\n",
        "\n",
        "print(new_list)"
      ],
      "metadata": {
        "colab": {
          "base_uri": "https://localhost:8080/"
        },
        "id": "pyBwGTWw0C6X",
        "outputId": "146f0333-c52b-4be4-dbf3-99fee07b2f89"
      },
      "execution_count": 6,
      "outputs": [
        {
          "output_type": "stream",
          "name": "stdout",
          "text": [
            "['grape', 'banana', 'orange', 12, ['peanut', 'butter', 'jelly', 'time'], 23, 23]\n"
          ]
        }
      ]
    },
    {
      "cell_type": "markdown",
      "source": [
        "**Removing Elements from a List**\n",
        "\n",
        "We can remove a(n) element(s) from a list either by either the position or the value.\n",
        "<br></br>\n",
        "\n",
        "If we know the position of the element we want to remove from a list we can use the del statement. One key thing to note, the value is no longer able to be accessed using this statement."
      ],
      "metadata": {
        "id": "OGy4PmKQ0U9d"
      }
    },
    {
      "cell_type": "code",
      "source": [
        "del new_list[2]\n",
        "del new_list[-1]\n",
        "print(new_list)"
      ],
      "metadata": {
        "colab": {
          "base_uri": "https://localhost:8080/"
        },
        "id": "sAIDwaNQ1I2h",
        "outputId": "445331a7-eb26-474f-8d01-467ca1f80247"
      },
      "execution_count": 8,
      "outputs": [
        {
          "output_type": "stream",
          "name": "stdout",
          "text": [
            "['grape', 'banana', ['peanut', 'butter', 'jelly', 'time'], 23]\n"
          ]
        }
      ]
    },
    {
      "cell_type": "markdown",
      "source": [
        "If we want to use the value of the item after it has been removed from the list, we can use the pop() method. This method removes the last item in the list by default. Optionally, we can pass the index that we want to pop as an argument to the method to return its value."
      ],
      "metadata": {
        "id": "Yb8dPexq18UN"
      }
    },
    {
      "cell_type": "code",
      "source": [
        "food= ['burger', 'fries', 'pizza', 'hotdog']\n",
        "food_item= food.pop()\n",
        "food_item2= food.pop(1)\n",
        "\n",
        "print(food_item)\n",
        "print(food_item2)"
      ],
      "metadata": {
        "colab": {
          "base_uri": "https://localhost:8080/"
        },
        "id": "Uja8bXyn2RU-",
        "outputId": "d9b69ba0-794e-47e7-d583-fea281b8b85a"
      },
      "execution_count": 10,
      "outputs": [
        {
          "output_type": "stream",
          "name": "stdout",
          "text": [
            "hotdog\n",
            "fries\n"
          ]
        }
      ]
    },
    {
      "cell_type": "markdown",
      "source": [
        "We can also remove an item from a list by value using the remove() method. "
      ],
      "metadata": {
        "id": "FZqRJQz25PYX"
      }
    },
    {
      "cell_type": "code",
      "source": [
        "transportation= ['planes', 'trains', 'automobiles', 'boats']\n",
        "\n",
        "transportation.remove('automobiles')\n",
        "item_remove= 'trains'\n",
        "transportation.remove(item_remove)\n",
        "\n",
        "print(transportation)\n",
        "print(item_remove)"
      ],
      "metadata": {
        "colab": {
          "base_uri": "https://localhost:8080/"
        },
        "id": "RYe1QHLr5ygQ",
        "outputId": "7ed409d8-45f3-434b-eefd-5289b4ec338b"
      },
      "execution_count": 12,
      "outputs": [
        {
          "output_type": "stream",
          "name": "stdout",
          "text": [
            "['planes', 'boats']\n",
            "trains\n"
          ]
        }
      ]
    },
    {
      "cell_type": "markdown",
      "source": [
        "**Organizing Lists**\n",
        "\n",
        "There are many times that we do not have control the order in which the elements of a list are created, but we want the list to be ordered in a particular way. There are methods in the List Class that can help us with this.\n",
        "\n",
        "<br></br>\n",
        "\n",
        "The sort() method changes the order of a list permenately in alphabetical order. There is not an \"undo\" method to get our list back in its original state."
      ],
      "metadata": {
        "id": "jdHQ9Kbu_zxp"
      }
    },
    {
      "cell_type": "code",
      "source": [
        "instruments= ['piano', 'flute', 'guitar', 'trumpet']\n",
        "\n",
        "instruments.sort()\n",
        "\n",
        "print(instruments)"
      ],
      "metadata": {
        "colab": {
          "base_uri": "https://localhost:8080/"
        },
        "id": "H5U70B6lB2B0",
        "outputId": "d968ce21-3ca2-4146-acfb-fac4e6466da8"
      },
      "execution_count": 15,
      "outputs": [
        {
          "output_type": "stream",
          "name": "stdout",
          "text": [
            "['flute', 'guitar', 'piano', 'trumpet']\n"
          ]
        }
      ]
    },
    {
      "cell_type": "markdown",
      "source": [
        "We can also use the sort() method to have our list in reverse alphabetical order by passing the arguement reverse=true"
      ],
      "metadata": {
        "id": "mP_a0Gh8CWuO"
      }
    },
    {
      "cell_type": "code",
      "source": [
        "instruments.sort(reverse=True)\n",
        "\n",
        "print(instruments)"
      ],
      "metadata": {
        "colab": {
          "base_uri": "https://localhost:8080/"
        },
        "id": "0sZGgAJZCles",
        "outputId": "9f3d91ed-3549-4cc2-b86a-186e849be833"
      },
      "execution_count": 16,
      "outputs": [
        {
          "output_type": "stream",
          "name": "stdout",
          "text": [
            "['trumpet', 'piano', 'guitar', 'flute']\n"
          ]
        }
      ]
    },
    {
      "cell_type": "markdown",
      "source": [
        "How does this change if all of our values are not strings or not all in the same case?"
      ],
      "metadata": {
        "id": "yX4DbXXJCxWd"
      }
    },
    {
      "cell_type": "code",
      "source": [
        "instruments= [\"Piano\", 'flute', 'guitar', 'Guitar', 'trumpet']\n",
        "mixed_list= ['piano', 1, 'trumpet', 5]\n",
        "\n",
        "instruments.sort()\n",
        "print(instruments)\n",
        "\n",
        "mixed_list.sort()\n",
        "print(mixed_list)"
      ],
      "metadata": {
        "id": "JxHlCVsbEyn1"
      },
      "execution_count": null,
      "outputs": []
    },
    {
      "cell_type": "markdown",
      "source": [
        "If we only want to sort a list temporarily we can use the sorted function. The sorted function allows us to display the list in alphabetical order, but the original list is unchanged. This function also accepts the reverse=True arguement."
      ],
      "metadata": {
        "id": "l_U24q4UF3H5"
      }
    },
    {
      "cell_type": "code",
      "source": [
        "instruments= ['piano', 'flute', 'guitar', 'trumpet']\n",
        "\n",
        "print(sorted(instruments))"
      ],
      "metadata": {
        "colab": {
          "base_uri": "https://localhost:8080/"
        },
        "id": "tpIN4VOXG1CE",
        "outputId": "bad45fc6-1575-4778-ac0e-72edd029e98a"
      },
      "execution_count": 19,
      "outputs": [
        {
          "output_type": "stream",
          "name": "stdout",
          "text": [
            "['flute', 'guitar', 'piano', 'trumpet']\n"
          ]
        }
      ]
    },
    {
      "cell_type": "markdown",
      "source": [
        "If we want an easy way to reverse the order of the original list we can use the reverse() method. You cannot undo this change, but you can just REVERSE! REVERSE! aka call the reverse method again to change it back the original order."
      ],
      "metadata": {
        "id": "pX96XF2eH28l"
      }
    },
    {
      "cell_type": "code",
      "source": [
        "furniture= ['couch', 'chair', 'bed', 'table']\n",
        "\n",
        "furniture.reverse()\n",
        "\n",
        "print(furniture)"
      ],
      "metadata": {
        "colab": {
          "base_uri": "https://localhost:8080/"
        },
        "id": "kQr4_URzIbeU",
        "outputId": "4333c95f-e236-4ab7-e06c-030bf5bb358e"
      },
      "execution_count": 20,
      "outputs": [
        {
          "output_type": "stream",
          "name": "stdout",
          "text": [
            "['table', 'bed', 'chair', 'couch']\n"
          ]
        }
      ]
    },
    {
      "cell_type": "markdown",
      "source": [
        "**Copying a List**\n",
        "\n",
        "When copying a list. We might think it is as easy as the script below."
      ],
      "metadata": {
        "id": "Tt0TkdzGLQNG"
      }
    },
    {
      "cell_type": "code",
      "source": [
        "furniture2= furniture\n",
        "\n",
        "print(furniture2)"
      ],
      "metadata": {
        "colab": {
          "base_uri": "https://localhost:8080/"
        },
        "id": "nOKsyUtiLiRv",
        "outputId": "fdcb9096-ccc4-425d-e5d4-7f8f88deeeaa"
      },
      "execution_count": 29,
      "outputs": [
        {
          "output_type": "stream",
          "name": "stdout",
          "text": [
            "['table', 'bed', 'chair', 'couch']\n"
          ]
        }
      ]
    },
    {
      "cell_type": "markdown",
      "source": [
        "However if we start to manipulate these two variables we will see that is not the case."
      ],
      "metadata": {
        "id": "umRdHjUhLr-b"
      }
    },
    {
      "cell_type": "code",
      "source": [
        "furniture2.append(\"armoire\")\n",
        "\n",
        "print(furniture2)\n",
        "print(furniture)"
      ],
      "metadata": {
        "colab": {
          "base_uri": "https://localhost:8080/"
        },
        "id": "NTfz42voMACv",
        "outputId": "8c63a9d4-0d44-42fd-a31b-c929f34414a0"
      },
      "execution_count": 30,
      "outputs": [
        {
          "output_type": "stream",
          "name": "stdout",
          "text": [
            "['table', 'bed', 'chair', 'couch', 'armoire']\n",
            "['table', 'bed', 'chair', 'couch', 'armoire']\n"
          ]
        }
      ]
    },
    {
      "cell_type": "markdown",
      "source": [
        "Armoire got added to both variables? Not quite. By setting furniture2 = furniture we actually created another pointer to the same place in memory. What we do under one variable name impacts the other. \n",
        "\n",
        "Instead, we can create a slice of the full list and assign that to a new variable."
      ],
      "metadata": {
        "id": "oysYZcUCMSKb"
      }
    },
    {
      "cell_type": "code",
      "source": [
        "transportation= ['planes', 'trains', 'automobiles', 'boats']\n",
        "\n",
        "new_transportation= transportation[:]\n",
        "new_transportation.append('bicycle')\n",
        "\n",
        "print(new_transportation)\n",
        "print(transportation)"
      ],
      "metadata": {
        "colab": {
          "base_uri": "https://localhost:8080/"
        },
        "id": "Vi4LdYBMMtWj",
        "outputId": "635ccf2b-d377-4801-f2fa-66fce3625894"
      },
      "execution_count": 31,
      "outputs": [
        {
          "output_type": "stream",
          "name": "stdout",
          "text": [
            "['planes', 'trains', 'automobiles', 'boats', 'bicycle']\n",
            "['planes', 'trains', 'automobiles', 'boats']\n"
          ]
        }
      ]
    }
  ]
}