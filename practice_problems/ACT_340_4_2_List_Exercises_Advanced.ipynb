{
  "nbformat": 4,
  "nbformat_minor": 0,
  "metadata": {
    "colab": {
      "provenance": []
    },
    "kernelspec": {
      "name": "python3",
      "display_name": "Python 3"
    },
    "language_info": {
      "name": "python"
    }
  },
  "cells": [
    {
      "cell_type": "markdown",
      "source": [
        "# List Excercises- Advanced\n",
        "\n",
        "Complete the following practice excercises below to build up your skills with manipulating lists."
      ],
      "metadata": {
        "id": "qK41rEENgA65"
      }
    },
    {
      "cell_type": "markdown",
      "source": [
        "**Problem 1**\n",
        "\n",
        "\n",
        "\n",
        "*   Using the list below, use a Class method to add the string \"skirt\" to the end of the list.\n",
        "\n"
      ],
      "metadata": {
        "id": "Q2j3l_wyf-UH"
      }
    },
    {
      "cell_type": "code",
      "source": [
        "clothing= ['socks', 'pants', 'shirt', 'polo']"
      ],
      "metadata": {
        "id": "hbDcD9R0fiJd"
      },
      "execution_count": null,
      "outputs": []
    },
    {
      "cell_type": "markdown",
      "source": [
        "**Problem 2**\n",
        "\n",
        "\n",
        "\n",
        "*   Using the same list as above, add a list to the 2nd index that includes the following strings:\n",
        "> 'suit jacket', 'suit pants', 'tie', 'button down'\n",
        "\n",
        "\n",
        "\n"
      ],
      "metadata": {
        "id": "y356o0Fjf5F_"
      }
    },
    {
      "cell_type": "code",
      "source": [],
      "metadata": {
        "id": "nWyQ5oVmghJz"
      },
      "execution_count": null,
      "outputs": []
    },
    {
      "cell_type": "markdown",
      "source": [
        "**Problem 3**\n",
        "\n",
        "\n",
        "\n",
        "*   Use the list below and use a Class method to get the total number of times the integer 14 appears in the list.\n",
        "\n"
      ],
      "metadata": {
        "id": "ibOLVpd9ghnV"
      }
    },
    {
      "cell_type": "code",
      "source": [
        "nums= [2, 150, 14, 36, 78, 81, 14, 1000, 54, 14, 14]"
      ],
      "metadata": {
        "id": "uew5D-NjgzGu"
      },
      "execution_count": null,
      "outputs": []
    },
    {
      "cell_type": "markdown",
      "source": [
        "**Problem 4**\n",
        "\n",
        "\n",
        "*  Use the same list as above\n",
        "*  Use a built-in function to find the total of all the numbers in the list.\n",
        "\n"
      ],
      "metadata": {
        "id": "06UCPuTZhCfh"
      }
    },
    {
      "cell_type": "code",
      "source": [],
      "metadata": {
        "id": "uvbtynLshN7h"
      },
      "execution_count": null,
      "outputs": []
    },
    {
      "cell_type": "markdown",
      "source": [
        "**Problem 5**\n",
        "\n",
        "\n",
        "\n",
        "*   Use the same list as above\n",
        "*   Slice the list so that it is reversed without using the .reverse() method\n",
        "\n"
      ],
      "metadata": {
        "id": "2y7Vph1ThSqQ"
      }
    },
    {
      "cell_type": "code",
      "source": [],
      "metadata": {
        "id": "jFRwVKvyh6ip"
      },
      "execution_count": null,
      "outputs": []
    },
    {
      "cell_type": "markdown",
      "source": [
        "**Problem 6**\n",
        "\n",
        "\n",
        "\n",
        "*   Use the list below.\n",
        "*   Slice the list so only the last two elements are included in the slice.\n",
        "\n"
      ],
      "metadata": {
        "id": "UV5mw3sXh7AL"
      }
    },
    {
      "cell_type": "code",
      "source": [
        "one_to_five= [1, 2, 3, 4, 5]"
      ],
      "metadata": {
        "id": "1gj4O32HiLg7"
      },
      "execution_count": null,
      "outputs": []
    },
    {
      "cell_type": "markdown",
      "source": [
        "**Problem 7**\n",
        "\n",
        "*   Use the list below\n",
        "*   Write a for loop so that every item in the list is printed\n",
        "\n"
      ],
      "metadata": {
        "id": "eO_HnwfUic9F"
      }
    },
    {
      "cell_type": "code",
      "source": [
        "animals= [\"koala\", \"cat\", \"fox\", \"panda\", \"chipmunk\", \"sloth\"]"
      ],
      "metadata": {
        "id": "oJdo3DfcisLP"
      },
      "execution_count": null,
      "outputs": []
    },
    {
      "cell_type": "markdown",
      "source": [
        "**Problem 8**\n",
        "\n",
        "\n",
        "\n",
        "* Use the list below\n",
        "* Create a function that accepts a list as an argument\n",
        "*   Check if the data type at each index is a list\n",
        "*   If it is a list, check the length of the list. If it is greater than 3, add the second element to a new list.\n",
        "*   Return the new list\n",
        "\n",
        "\n",
        "\n",
        "\n",
        "\n"
      ],
      "metadata": {
        "id": "gmEVvlB5jG7m"
      }
    },
    {
      "cell_type": "code",
      "source": [
        "random_things= ['hello', ['breakfast', 'you', 'pencil', 2], 22, ['burrito', 'taco'],\n",
        "                [22, 'win', 33, [5], 'laptop']]"
      ],
      "metadata": {
        "id": "RDlz_hkCj08s"
      },
      "execution_count": null,
      "outputs": []
    },
    {
      "cell_type": "markdown",
      "source": [
        "**Problem 9**\n",
        "\n",
        "\n",
        "\n",
        "*   Use the list below\n",
        "*   Create a new list\n",
        "*   Use a for loop and the append() method to append each item with a Dr. prefix to the new list.\n",
        "\n",
        "\n",
        "\n",
        "\n"
      ],
      "metadata": {
        "id": "WdAG983lk4yc"
      }
    },
    {
      "cell_type": "code",
      "source": [
        "names= ['Dre', 'Seuss', 'Who', 'McCoy']"
      ],
      "metadata": {
        "id": "jRp_K6kOlTDx"
      },
      "execution_count": null,
      "outputs": []
    },
    {
      "cell_type": "markdown",
      "source": [
        "**Problem 10**\n",
        "\n",
        "\n",
        "\n",
        "*   Use the list below\n",
        "*   Use a while loop, iterate through the list and if there is an integer 100, print a message that says what index the 100 is at\n",
        "*   Example: \"There is a 100 at index no: 5\"\n",
        "\n",
        "\n",
        "\n",
        "\n",
        "\n"
      ],
      "metadata": {
        "id": "aHfC8mXulwEl"
      }
    },
    {
      "cell_type": "code",
      "source": [
        "num2= [10, 99, 85, 76, 43, 2, 77, 100, 13, 12, 42, 99, -1, -100]"
      ],
      "metadata": {
        "id": "psW443glmlVe"
      },
      "execution_count": null,
      "outputs": []
    },
    {
      "cell_type": "markdown",
      "source": [
        "**Problem 11**\n",
        "\n",
        "\n",
        "\n",
        "\n",
        "*   Use the list below\n",
        "*   Create a new list\n",
        "*   Use a for loop or a whole loop to iterate through the list and append all the elements in the old list, to the new list UNLESS the element is an empty string\n",
        "\n",
        "\n"
      ],
      "metadata": {
        "id": "zV4_y6n8mzL9"
      }
    },
    {
      "cell_type": "code",
      "source": [
        "list1= [\"McDonald's\", \"Wendy's\", \"\", \"Burger King\", \"\", \"Taco Bell\"]"
      ],
      "metadata": {
        "id": "vCGbxhKXnKjM"
      },
      "execution_count": null,
      "outputs": []
    },
    {
      "cell_type": "markdown",
      "source": [],
      "metadata": {
        "id": "yPurohASnUVy"
      }
    }
  ]
}