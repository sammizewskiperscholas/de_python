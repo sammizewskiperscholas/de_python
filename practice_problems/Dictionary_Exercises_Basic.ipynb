{
  "cells": [
    {
      "cell_type": "markdown",
      "metadata": {
        "id": "hLdVb0xtzLnJ"
      },
      "source": [
        "# **Dictionary Practice Excercises- Basics**\n",
        "\n",
        "Dictionaries are Python's implementation of a data structure that is more generally known as an associative array. A dictionary consists of a collection of key-value pairs. Each key-value pair maps the key to its associated value.\n",
        "<br></br>\n",
        "You can define a dictionary by enclosing a comma-separated list of key-value pairs in curly braces {}. A colon : separates each key from its associated value:\n",
        "\n",
        "\n"
      ]
    },
    {
      "cell_type": "code",
      "execution_count": null,
      "metadata": {
        "id": "IFFcce61zi0N"
      },
      "outputs": [],
      "source": [
        "d = {\n",
        "    <key>: <value>,\n",
        "    <key>: <value>,\n",
        "      .\n",
        "      .\n",
        "      .\n",
        "    <key>: <value>\n",
        "}"
      ]
    },
    {
      "cell_type": "markdown",
      "metadata": {
        "id": "WX26oSxdzpft"
      },
      "source": [
        "You can also construct a dictionary with the built-in dict() function. The argument to dict() should be a sequence of key-value pairs. A list of tuples works well for this:"
      ]
    },
    {
      "cell_type": "code",
      "execution_count": null,
      "metadata": {
        "id": "ZSSo7IqZzyuz"
      },
      "outputs": [],
      "source": [
        "d = dict([\n",
        "    (<key>, <value>),\n",
        "    (<key>, <value),\n",
        "      .\n",
        "      .\n",
        "      .\n",
        "    (<key>, <value>)\n",
        "])"
      ]
    },
    {
      "cell_type": "markdown",
      "metadata": {
        "id": "6Z2fczdC7Xdg"
      },
      "source": [
        "**Restrictions on Keys and Values**\n",
        "\n",
        "Keys must be an immutable type and can only appear in a dictionary once.\n",
        "\n",
        "Values have zero restrictions. A dictionary value can be any type of object Python supports."
      ]
    },
    {
      "cell_type": "markdown",
      "metadata": {
        "id": "pKIBePLD0Hk5"
      },
      "source": [
        "**Problem 1**\n",
        "\n",
        "Use the following states and capitals to create dictionary objects.\n",
        "\n",
        ">Los Angeles, California\n",
        "\n",
        ">Albany, New York\n",
        "\n",
        ">Honolulu, Hawaii\n",
        "\n",
        ">Juneau, Alaska\n",
        "\n",
        ">Austin, Texas\n",
        "\n",
        "*   Create a Dictionary object with the {} bracket notation where the States are the Keys and the Capitals are the values.\n",
        "*   Create a Dictionary object with built-in dict() function where the States are the Keys and the Capitals are the values.\n",
        "*   Use the type() method to check the object type of each object\n",
        "*   Print each object to see all the key:value pairs in the dictionary\n",
        "\n"
      ]
    },
    {
      "cell_type": "code",
      "execution_count": 130,
      "metadata": {
        "id": "1J260o5X1nfI"
      },
      "outputs": [
        {
          "name": "stdout",
          "output_type": "stream",
          "text": [
            "{'California': 'Los Angeles', 'New York': 'Albany', 'Hawaii': 'Honolulu', 'Alaska': 'Juneau', 'Texas': 'Austin'}\n",
            "{'California': 'Los Angeles', 'New York': 'Albany', 'Hawaii': 'Honolulu', 'Alaska': 'Juneau', 'Texas': 'Austin'}\n",
            "type(dict1):  <class 'dict'>\n",
            "type(dict2):  <class 'dict'>\n"
          ]
        }
      ],
      "source": [
        "dict1={'California':'Los Angeles','New York':'Albany','Hawaii':'Honolulu','Alaska':'Juneau','Texas':'Austin'}\n",
        "print(dict1)\n",
        "\n",
        "dict2=dict()\n",
        "dict2['California']='Los Angeles'\n",
        "dict2['New York']='Albany'\n",
        "dict2['Hawaii']='Honolulu'\n",
        "dict2['Alaska']='Juneau'\n",
        "dict2['Texas']='Austin'\n",
        "print(dict2)\n",
        "\n",
        "print(\"type(dict1): \",type(dict1))\n",
        "print(\"type(dict2): \",type(dict2))\n"
      ]
    },
    {
      "cell_type": "markdown",
      "metadata": {
        "id": "jDv9Lw3mcMOC"
      },
      "source": [
        "\n",
        "\n",
        "---\n",
        "\n"
      ]
    },
    {
      "cell_type": "markdown",
      "metadata": {
        "id": "m62n29aX2GDQ"
      },
      "source": [
        "# Accessing Keys and Values in a Dictionary\n",
        "\n",
        "The entries in the dictionary display in the order they were defined. But that is irrelevant when it comes to retrieving them. Dictionary elements are not accessed by numerical index like they are in Strings and Lists.\n",
        "<br></br>\n",
        "\n",
        "A value is retrieved from a dictionary by specifying its corresponding key in square brackets var_name[key_name].\n",
        "<br></br>\n",
        "\n",
        "*Note: If you try to access a key in this manner, and the key does not exist you will raise a 'KeyError'. We will use a different built-in method later on that handles this exception for us.*"
      ]
    },
    {
      "cell_type": "code",
      "execution_count": 92,
      "metadata": {
        "colab": {
          "base_uri": "https://localhost:8080/",
          "height": 36
        },
        "id": "wYTon0-A4IQV",
        "outputId": "7475b7ff-651b-42aa-9863-e0fcb7046b56"
      },
      "outputs": [
        {
          "data": {
            "text/plain": [
              "'One'"
            ]
          },
          "execution_count": 92,
          "metadata": {},
          "output_type": "execute_result"
        }
      ],
      "source": [
        "numbers= dict([\n",
        "    (1, 'One'),\n",
        "    (2, 'Two'),\n",
        "    (3, 'Three'),\n",
        "    (4, 'Four'),\n",
        "    (5, 'Five')\n",
        "])\n",
        "\n",
        "numbers[1]"
      ]
    },
    {
      "cell_type": "markdown",
      "metadata": {
        "id": "C-66Zwq_5etk"
      },
      "source": [
        "Adding an entry to an existing dictionary is simply a matter of assigning a new key and value:"
      ]
    },
    {
      "cell_type": "code",
      "execution_count": 93,
      "metadata": {
        "colab": {
          "base_uri": "https://localhost:8080/"
        },
        "id": "ff6ZauAy5kSL",
        "outputId": "e8c4348c-db42-402b-e59f-1db68fdb21e1"
      },
      "outputs": [
        {
          "data": {
            "text/plain": [
              "{1: 'One', 2: 'Two', 3: 'Three', 4: 'Four', 5: 'Five', 6: 'Six'}"
            ]
          },
          "execution_count": 93,
          "metadata": {},
          "output_type": "execute_result"
        }
      ],
      "source": [
        "numbers[6] = 'Six'\n",
        "numbers"
      ]
    },
    {
      "cell_type": "markdown",
      "metadata": {
        "id": "ygg8Io4Y5u3q"
      },
      "source": [
        "If you want to update an entry, you can just assign a new value to an existing key."
      ]
    },
    {
      "cell_type": "code",
      "execution_count": 94,
      "metadata": {
        "colab": {
          "base_uri": "https://localhost:8080/"
        },
        "id": "8NWEpbP75x1_",
        "outputId": "47312454-1a89-4647-a62d-364b5ce3fd7d"
      },
      "outputs": [
        {
          "data": {
            "text/plain": [
              "{1: '1', 2: 'Two', 3: 'Three', 4: 'Four', 5: 'Five', 6: 'Six'}"
            ]
          },
          "execution_count": 94,
          "metadata": {},
          "output_type": "execute_result"
        }
      ],
      "source": [
        "numbers[1]= '1'\n",
        "numbers"
      ]
    },
    {
      "cell_type": "markdown",
      "metadata": {
        "id": "MpRtqAd85826"
      },
      "source": []
    },
    {
      "cell_type": "markdown",
      "metadata": {
        "id": "xknRNePc58-l"
      },
      "source": [
        "To delete an entry, use the del statement, specifying the key to delete:"
      ]
    },
    {
      "cell_type": "code",
      "execution_count": 95,
      "metadata": {
        "colab": {
          "base_uri": "https://localhost:8080/"
        },
        "id": "phTTEl445_HJ",
        "outputId": "9328f20f-a39d-4aad-96ba-bd37fe0d3f6b"
      },
      "outputs": [
        {
          "data": {
            "text/plain": [
              "{2: 'Two', 3: 'Three', 4: 'Four', 5: 'Five', 6: 'Six'}"
            ]
          },
          "execution_count": 95,
          "metadata": {},
          "output_type": "execute_result"
        }
      ],
      "source": [
        "del numbers[1]\n",
        "numbers"
      ]
    },
    {
      "cell_type": "markdown",
      "metadata": {
        "id": "NGjC6mg26FrD"
      },
      "source": [
        "**Problem 2**\n",
        "\n",
        "Use a dictionary object from Problem 1 to complete the following:\n",
        "\n",
        "*   Retrieve the value for the key 'California'\n",
        "*   Add the State: Capital pair for Florida to the dictionary\n",
        "*   Update the capital of California to 'Sacremento'\n",
        "*   Delete Alaska from the Dictionary\n",
        "\n"
      ]
    },
    {
      "cell_type": "code",
      "execution_count": 131,
      "metadata": {
        "id": "YPGI0LK260sE"
      },
      "outputs": [
        {
          "name": "stdout",
          "output_type": "stream",
          "text": [
            "Los Angeles\n",
            "{'California': 'Sacremento', 'New York': 'Albany', 'Hawaii': 'Honolulu', 'Alaska': 'Juneau', 'Texas': 'Austin', 'Florida': 'Tallahassee'}\n",
            "{'California': 'Sacremento', 'New York': 'Albany', 'Hawaii': 'Honolulu', 'Texas': 'Austin', 'Florida': 'Tallahassee'}\n"
          ]
        }
      ],
      "source": [
        "print(dict1['California'])\n",
        "dict1.update({'Florida':'Tallahassee'})\n",
        "dict1.update({'California':'Sacremento'})\n",
        "print(dict1)\n",
        "del dict1['Alaska']\n",
        "print(dict1)"
      ]
    },
    {
      "cell_type": "markdown",
      "metadata": {
        "id": "61Ct1eJh6_1O"
      },
      "source": [
        "*Note: Although access to items in a dictionary does not depend on order, Python does guarantee that the order of items in a dictionary is preserved. When displayed, items will appear in the order they were defined, and iteration through the keys will occur in that order as well. Items added to a dictionary are added at the end. If items are deleted, the order of the remaining items is retained.*"
      ]
    },
    {
      "cell_type": "markdown",
      "metadata": {
        "id": "_0oxzWjVcJd1"
      },
      "source": [
        "\n",
        "\n",
        "---\n",
        "\n"
      ]
    },
    {
      "cell_type": "markdown",
      "metadata": {
        "id": "BiX4I1Z4gQ-A"
      },
      "source": [
        "# Dictionary Methods\n",
        "\n",
        "There are several built-in methods that can be used with dictionaries. The following are common methods used with Dictionary objects.\n",
        "<br></br>\n",
        "We will use the dictionary below for the examples in this section."
      ]
    },
    {
      "cell_type": "code",
      "execution_count": 116,
      "metadata": {
        "colab": {
          "base_uri": "https://localhost:8080/"
        },
        "id": "e9PMgFuHhdf0",
        "outputId": "ab71d849-16b9-4c74-df1c-58400efc25e2"
      },
      "outputs": [
        {
          "data": {
            "text/plain": [
              "{'fruits': ['apples', 'blueberries', 'strawberries'],\n",
              " 'vegetables': ['broccoli', 'cauliflower'],\n",
              " 'meat': 'chicken'}"
            ]
          },
          "execution_count": 116,
          "metadata": {},
          "output_type": "execute_result"
        }
      ],
      "source": [
        "grocery_list= {'fruits': ['apples', 'blueberries', 'strawberries'], \n",
        "               'vegetables': ['broccoli', 'cauliflower'], 'meat': 'chicken'}\n",
        "\n",
        "grocery_list"
      ]
    },
    {
      "cell_type": "markdown",
      "metadata": {
        "id": "n6cjN2swpvcu"
      },
      "source": [
        "**.get()**\n",
        "\n",
        "The .get(key) method searches the dictionary for 'key 'and returns the associated value if it is found. If 'key' is not found, it returns None instead of raising an Exception.\n",
        "<br></br>\n",
        "Since the value of 'fruits' is a list, the entire list is returned.\n"
      ]
    },
    {
      "cell_type": "code",
      "execution_count": 117,
      "metadata": {
        "colab": {
          "base_uri": "https://localhost:8080/"
        },
        "id": "8hMaoXXqqM1S",
        "outputId": "78a6ff8d-4777-4d18-a413-9dfdf6e5699a"
      },
      "outputs": [
        {
          "name": "stdout",
          "output_type": "stream",
          "text": [
            "['apples', 'blueberries', 'strawberries']\n",
            "None\n"
          ]
        }
      ],
      "source": [
        "print(grocery_list.get('fruits'))\n",
        "print(grocery_list.get('dairy'))"
      ]
    },
    {
      "cell_type": "markdown",
      "metadata": {
        "id": "kgpOwVbCsUp2"
      },
      "source": [
        "\n",
        "\n",
        "---\n",
        "\n"
      ]
    },
    {
      "cell_type": "markdown",
      "metadata": {
        "id": "tdK5CWiYqzhm"
      },
      "source": [
        "**.items()**\n",
        "\n",
        "The .items() method returns a view object of a list of tuples containing the key-value pairs. The first item in each tuple is the key, and the second item is the key's value."
      ]
    },
    {
      "cell_type": "code",
      "execution_count": 118,
      "metadata": {
        "colab": {
          "base_uri": "https://localhost:8080/"
        },
        "id": "SYAif-p1roc8",
        "outputId": "b6298f8a-720f-4937-9d67-e85fa710e1e2"
      },
      "outputs": [
        {
          "data": {
            "text/plain": [
              "dict_items([('fruits', ['apples', 'blueberries', 'strawberries']), ('vegetables', ['broccoli', 'cauliflower']), ('meat', 'chicken')])"
            ]
          },
          "execution_count": 118,
          "metadata": {},
          "output_type": "execute_result"
        }
      ],
      "source": [
        "grocery_list.items()"
      ]
    },
    {
      "cell_type": "markdown",
      "metadata": {
        "id": "3kRaIiz-rzSq"
      },
      "source": [
        "We can wrap this item in a list, to access each tuple using indexes."
      ]
    },
    {
      "cell_type": "code",
      "execution_count": 119,
      "metadata": {
        "colab": {
          "base_uri": "https://localhost:8080/"
        },
        "id": "w-E30E7Hr77a",
        "outputId": "7cdec41b-16c7-48cc-ac72-73f7a819dd65"
      },
      "outputs": [
        {
          "name": "stdout",
          "output_type": "stream",
          "text": [
            "vegetables\n",
            "['broccoli', 'cauliflower']\n",
            "broccoli\n"
          ]
        }
      ],
      "source": [
        "print(list(grocery_list.items())[1][0])\n",
        "print(list(grocery_list.items())[1][1])\n",
        "print(list(grocery_list.items())[1][1][0])"
      ]
    },
    {
      "cell_type": "markdown",
      "metadata": {
        "id": "kDfAmLLosXPd"
      },
      "source": [
        "\n",
        "\n",
        "---\n",
        "\n"
      ]
    },
    {
      "cell_type": "markdown",
      "metadata": {
        "id": "vReQ7AOctl-b"
      },
      "source": [
        "**.keys()**\n",
        "\n",
        "The .keys() method returns a a view object of all the keys in a dictionary\n",
        "\n",
        "We can turn it into a list object to fully utilize the method."
      ]
    },
    {
      "cell_type": "code",
      "execution_count": 120,
      "metadata": {
        "colab": {
          "base_uri": "https://localhost:8080/"
        },
        "id": "PetloFBNt2YR",
        "outputId": "0d351253-f391-4df8-98bc-f073de8dfe83"
      },
      "outputs": [
        {
          "name": "stdout",
          "output_type": "stream",
          "text": [
            "dict_keys(['fruits', 'vegetables', 'meat'])\n",
            "['fruits', 'vegetables', 'meat']\n"
          ]
        }
      ],
      "source": [
        "print(grocery_list.keys())\n",
        "print(list(grocery_list.keys()))\n"
      ]
    },
    {
      "cell_type": "markdown",
      "metadata": {
        "id": "V9eRMtnouhAc"
      },
      "source": [
        "\n",
        "\n",
        "---\n",
        "\n"
      ]
    },
    {
      "cell_type": "markdown",
      "metadata": {
        "id": "XynX05Tiuimi"
      },
      "source": [
        "**.values()**\n",
        "\n",
        "The .values() method returns a view object. The view object contains the values of the dictionary, as a list.\n",
        "\n",
        "\n"
      ]
    },
    {
      "cell_type": "code",
      "execution_count": 121,
      "metadata": {
        "colab": {
          "base_uri": "https://localhost:8080/"
        },
        "id": "gooDwnOGuzEz",
        "outputId": "51035264-55cc-4ea4-abbb-4360e2fd4772"
      },
      "outputs": [
        {
          "name": "stdout",
          "output_type": "stream",
          "text": [
            "dict_values([['apples', 'blueberries', 'strawberries'], ['broccoli', 'cauliflower'], 'chicken'])\n",
            "[['apples', 'blueberries', 'strawberries'], ['broccoli', 'cauliflower'], 'chicken']\n"
          ]
        }
      ],
      "source": [
        "print(grocery_list.values())\n",
        "print(list(grocery_list.values()))"
      ]
    },
    {
      "cell_type": "markdown",
      "metadata": {
        "id": "m5GZ5fsLvDww"
      },
      "source": [
        "\n",
        "\n",
        "---\n",
        "\n"
      ]
    },
    {
      "cell_type": "markdown",
      "metadata": {
        "id": "H9QYE7lEvFgd"
      },
      "source": [
        "**.pop()**\n",
        "\n",
        "The .pop() method of Python dictionary (dict) is used to remove the element from the dictionary by dict key and return the value related to the removed key . If a key does not exist in the dictionary and the default value is specified, then returns the default value; else throws a KeyError ."
      ]
    },
    {
      "cell_type": "code",
      "execution_count": 122,
      "metadata": {
        "colab": {
          "base_uri": "https://localhost:8080/"
        },
        "id": "QQ108yIwvbHi",
        "outputId": "c65b083f-0965-46f8-ae90-7f1b0b18ff26"
      },
      "outputs": [
        {
          "name": "stdout",
          "output_type": "stream",
          "text": [
            "chicken\n",
            "{'fruits': ['apples', 'blueberries', 'strawberries'], 'vegetables': ['broccoli', 'cauliflower']}\n"
          ]
        }
      ],
      "source": [
        "print(grocery_list.pop('meat'))\n",
        "print(grocery_list)\n"
      ]
    },
    {
      "cell_type": "markdown",
      "metadata": {
        "id": "c1Tzs32YwVE_"
      },
      "source": [
        "\n",
        "\n",
        "---\n",
        "\n"
      ]
    },
    {
      "cell_type": "markdown",
      "metadata": {
        "id": "_sXwA6HKwWN3"
      },
      "source": [
        "**.popitem()**\n",
        "\n",
        "The .popitem() removes the last key-value pair added to a dictionary and returns it as a tuple."
      ]
    },
    {
      "cell_type": "code",
      "execution_count": 123,
      "metadata": {
        "colab": {
          "base_uri": "https://localhost:8080/"
        },
        "id": "Frt5_JM3wrTW",
        "outputId": "739e37a4-1c6f-4319-c70b-aeefb8b82617"
      },
      "outputs": [
        {
          "name": "stdout",
          "output_type": "stream",
          "text": [
            "('vegetables', ['broccoli', 'cauliflower'])\n",
            "{'fruits': ['apples', 'blueberries', 'strawberries']}\n"
          ]
        }
      ],
      "source": [
        "print(grocery_list.popitem())\n",
        "print(grocery_list)"
      ]
    },
    {
      "cell_type": "markdown",
      "metadata": {
        "id": "F20mpjhNzqo7"
      },
      "source": [
        "\n",
        "\n",
        "---\n",
        "\n"
      ]
    },
    {
      "cell_type": "markdown",
      "metadata": {
        "id": "soS5mXRezrz6"
      },
      "source": [
        "# Looping through a Dictionary\n",
        "\n",
        "A python dictionary can be empty, contain just a few key:value pairs, or millions of pairs. An efficient way to access large amounts of data within a Python Dictionary is using a 'for loop'. We can loop through all of the key:value pairs, through its keys, or through its values.\n",
        "<br></br>\n",
        "We will use the dictionary below for the examples in this section. Each key is the name of a person and each value is their favorite video game."
      ]
    },
    {
      "cell_type": "code",
      "execution_count": 124,
      "metadata": {
        "id": "YzRXaL790TQJ"
      },
      "outputs": [],
      "source": [
        "fav_vgame= {'Andrea': 'Stardew Valley', \n",
        "            'Bill': 'Super Smash Bros',\n",
        "            'Tom': 'God of War',\n",
        "            'Jose': 'Hogwarts Legacy',\n",
        "            'Mina': 'Pokemon Gold'}"
      ]
    },
    {
      "cell_type": "markdown",
      "metadata": {
        "id": "6FwogEyA3L5c"
      },
      "source": [
        "Without adding any methods to our Dictionary the default is to loop through the keys of our Dictionary. We only need one iterator in this for loop.\n",
        "<br></br>\n",
        "If we would like to to be more explicit in our code. We can add the .keys method to our Dictionary object to produce the same results."
      ]
    },
    {
      "cell_type": "code",
      "execution_count": 125,
      "metadata": {
        "colab": {
          "base_uri": "https://localhost:8080/"
        },
        "id": "P9w9Vq3x3WT4",
        "outputId": "e77d7ab4-d599-4609-c62c-3abc2e8d25aa"
      },
      "outputs": [
        {
          "name": "stdout",
          "output_type": "stream",
          "text": [
            "Andrea\n",
            "Bill\n",
            "Tom\n",
            "Jose\n",
            "Mina\n",
            "andrea\n",
            "bill\n",
            "tom\n",
            "jose\n",
            "mina\n"
          ]
        }
      ],
      "source": [
        "for key in fav_vgame:\n",
        "  print(key)\n",
        "\n",
        "for key in fav_vgame.keys():\n",
        "  print(key.lower())\n"
      ]
    },
    {
      "cell_type": "markdown",
      "metadata": {
        "id": "zz-903OL3_b7"
      },
      "source": [
        "If we wanted to loop through our keys in a particular order vs the order our dictionary was created, we can use the built-in sorted() function."
      ]
    },
    {
      "cell_type": "code",
      "execution_count": 126,
      "metadata": {
        "colab": {
          "base_uri": "https://localhost:8080/"
        },
        "id": "qye8QIQA4V0k",
        "outputId": "c48fb356-fa81-4a27-8b46-8ab8769a80f1"
      },
      "outputs": [
        {
          "name": "stdout",
          "output_type": "stream",
          "text": [
            "Andrea\n",
            "Bill\n",
            "Jose\n",
            "Mina\n",
            "Tom\n"
          ]
        }
      ],
      "source": [
        "for key in sorted(fav_vgame):\n",
        "  print(key)"
      ]
    },
    {
      "cell_type": "markdown",
      "metadata": {
        "id": "J4eHIuVx4m8s"
      },
      "source": [
        "We can loop through just the values of a Dictionary by using the .values() method.\n",
        "<br></br>\n",
        "We only need one iterator in this for loop."
      ]
    },
    {
      "cell_type": "code",
      "execution_count": 127,
      "metadata": {
        "colab": {
          "base_uri": "https://localhost:8080/"
        },
        "id": "_HMtjAsk4uMU",
        "outputId": "666733be-5196-46e8-ece3-f0b88be02fa5"
      },
      "outputs": [
        {
          "name": "stdout",
          "output_type": "stream",
          "text": [
            "Stardew Valley\n",
            "Super Smash Bros\n",
            "God of War\n",
            "Hogwarts Legacy\n",
            "Pokemon Gold\n"
          ]
        }
      ],
      "source": [
        "for values in fav_vgame.values():\n",
        "  print(values)"
      ]
    },
    {
      "cell_type": "markdown",
      "metadata": {
        "id": "Pe2UL2Za1VqZ"
      },
      "source": [
        "To loop through both the keys and values in a dictionary we need two iterators and can use the .items() method.\n",
        "\n",
        "We will use f-string to format our print statements. The \"\\n\" inserts a blank line in the first print call on each iteration of the for loop.\n",
        "\n",
        "As a reminder, these are just print statements. We are not returning anything to be used later in our code."
      ]
    },
    {
      "cell_type": "code",
      "execution_count": 128,
      "metadata": {
        "colab": {
          "base_uri": "https://localhost:8080/"
        },
        "id": "2gGNoEZO1km3",
        "outputId": "7383c59e-b324-4033-ccc2-d124bc5cc692"
      },
      "outputs": [
        {
          "name": "stdout",
          "output_type": "stream",
          "text": [
            "\n",
            "Key: Andrea\n",
            "Value: Stardew Valley\n",
            "\n",
            "Key: Bill\n",
            "Value: Super Smash Bros\n",
            "\n",
            "Key: Tom\n",
            "Value: God of War\n",
            "\n",
            "Key: Jose\n",
            "Value: Hogwarts Legacy\n",
            "\n",
            "Key: Mina\n",
            "Value: Pokemon Gold\n"
          ]
        }
      ],
      "source": [
        "for key, value in fav_vgame.items():\n",
        "  print(f\"\\nKey: {key}\") #the key inside the curly brackets comes from our key iterator in the for loop \n",
        "  print(f\"Value: {value}\") #the value inside the curly brackets comes from our value iterator in the for loop "
      ]
    },
    {
      "cell_type": "markdown",
      "metadata": {
        "id": "y6hJgEP66Knq"
      },
      "source": [
        "**Problem 3**\n",
        "\n",
        "Use the dictionary methods and for loop examples above to complete the following task:\n",
        "\n",
        "*   Create a dictionary object called 'playlist' with a minimum of 6 key:value pairs.\n",
        "\n",
        "> *   Each Key in the dictionary should be an artist name\n",
        "> *   Each Value should be a corresponding song by that artist\n",
        "\n",
        "*   Use a for loop to create a print statement that prints all the artists in the playlist\n",
        "*   Use a for loop to create a print statment that prints all the songs in the playlist\n",
        "*   Use a for loop to create a print statement that says: \"(Song Name) by (Artist) is in the current playlist.\"\n",
        "*  Remove the last Key:Value pair from the Dictionary\n",
        "*  Add the song \"Anti-Hero\" by Taylor Swift to your playlist.\n",
        "*  Overwrite one of your songs to have REMIX in front of the song title\n",
        "*  Define & call a function that will print all the artists and songs from the object you pass into it.\n",
        "\n",
        "\n",
        "\n",
        "\n",
        "\n"
      ]
    },
    {
      "cell_type": "code",
      "execution_count": 132,
      "metadata": {
        "id": "Lh7XlwjC-Nrj"
      },
      "outputs": [
        {
          "data": {
            "text/plain": [
              "dict_values(['Sacremento', 'Albany', 'Honolulu', 'Austin', 'Tallahassee'])"
            ]
          },
          "execution_count": 132,
          "metadata": {},
          "output_type": "execute_result"
        }
      ],
      "source": []
    },
    {
      "cell_type": "code",
      "execution_count": null,
      "metadata": {},
      "outputs": [],
      "source": []
    }
  ],
  "metadata": {
    "colab": {
      "provenance": []
    },
    "kernelspec": {
      "display_name": "Python 3",
      "name": "python3"
    },
    "language_info": {
      "codemirror_mode": {
        "name": "ipython",
        "version": 3
      },
      "file_extension": ".py",
      "mimetype": "text/x-python",
      "name": "python",
      "nbconvert_exporter": "python",
      "pygments_lexer": "ipython3",
      "version": "3.9.7"
    }
  },
  "nbformat": 4,
  "nbformat_minor": 0
}
