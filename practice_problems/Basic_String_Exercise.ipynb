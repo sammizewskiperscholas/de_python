{
  "cells": [
    {
      "cell_type": "markdown",
      "metadata": {
        "id": "DXWffeN5qdfN"
      },
      "source": [
        "# String Practice Excercises- Basics\n",
        "\n",
        "A string is a series of charachters in Python. Anything inside of quotes is considreed a string. You can use single or double quotes around of a string."
      ]
    },
    {
      "cell_type": "code",
      "execution_count": 3,
      "metadata": {},
      "outputs": [
        {
          "name": "stdout",
          "output_type": "stream",
          "text": [
            "2471790842768\n"
          ]
        }
      ],
      "source": [
        "string1= \"I am a unique string\"\n",
        "print(id(string1))"
      ]
    },
    {
      "cell_type": "code",
      "execution_count": 4,
      "metadata": {},
      "outputs": [
        {
          "name": "stdout",
          "output_type": "stream",
          "text": [
            "2471791049776\n"
          ]
        }
      ],
      "source": [
        "string1= \"I am an even more unique string\"\n",
        "print(id(string1))"
      ]
    },
    {
      "cell_type": "code",
      "execution_count": null,
      "metadata": {
        "id": "8xHfXP_bYb7S"
      },
      "outputs": [],
      "source": [
        "string1= \"This is a python string\"\n",
        "string2= 'This is also a python string'"
      ]
    },
    {
      "cell_type": "markdown",
      "metadata": {
        "id": "lnaUB0ILYkIt"
      },
      "source": [
        "This flexibility allows you to use quotes and apostrophes within our strings."
      ]
    },
    {
      "cell_type": "code",
      "execution_count": null,
      "metadata": {
        "id": "-mkroeSmYssJ"
      },
      "outputs": [],
      "source": [
        "string3= \"'I told my friend, 'Python is my favorite programming language!'\""
      ]
    },
    {
      "cell_type": "markdown",
      "metadata": {
        "id": "pskaACUjZQLu"
      },
      "source": [
        "All strings are part of the String Class in python. Because of this, we have access to all of the methods that exist within that Class. The way we use methods on string methods is called \"dot notation\".\n"
      ]
    },
    {
      "cell_type": "code",
      "execution_count": null,
      "metadata": {
        "colab": {
          "base_uri": "https://localhost:8080/"
        },
        "id": "tis6wBmEZpIb",
        "outputId": "34429312-b84e-4811-930e-266c152228fa"
      },
      "outputs": [
        {
          "name": "stdout",
          "output_type": "stream",
          "text": [
            "Sammi\n",
            "sammi\n"
          ]
        }
      ],
      "source": [
        "name= 'sammi'\n",
        "print(name.title())\n",
        "print(name)"
      ]
    },
    {
      "cell_type": "markdown",
      "metadata": {
        "id": "0KsvVUnxZwpr"
      },
      "source": [
        "In the example above, the variable \"name\" is referrring to the string object \"sammi\". We add the method(a function that belongs to a specific class) to the variable with a period. We are telling Python to perform the title method on the name variable. \n",
        "\n",
        "This method changes the first charachter of the each letter in a string to an uppercase letter only in the print statment. Since strings are immutable, we are not actually changing the value that is stored. We would need to create a new string value if we wanted to keep the change permenantely.\n",
        "<br>\n",
        "</br>\n",
        "You can find a list of all the methods that belong to the String Class here:\n",
        "https://www.w3schools.com/python/python_ref_string.asp"
      ]
    },
    {
      "cell_type": "markdown",
      "metadata": {
        "id": "j2X6ijE-bKVj"
      },
      "source": [
        "**Problem 1**\n",
        "\n",
        "Use the following string to practice the string methods below:\n",
        "\n",
        "\"Everything is an Object in Python!!!\"\n",
        "<br>\n",
        "</br>\n",
        "\n",
        "*   Convert the entire string to uppercase\n",
        "*   Convert the entire string to lowercase\n",
        "*   Convert only the first letter to uppercase\n",
        "\n",
        "\n",
        "\n"
      ]
    },
    {
      "cell_type": "code",
      "execution_count": 7,
      "metadata": {
        "id": "JqXc8HG1ceRd"
      },
      "outputs": [
        {
          "name": "stdout",
          "output_type": "stream",
          "text": [
            "Everything is an object in python!!!\n",
            "EVERYTHING IS AN OBJECT IN PYTHON!!!\n",
            "everything is an object in python!!!\n"
          ]
        }
      ],
      "source": [
        "var1= \"Everything is an Object in Python!!!\"\n",
        "\n",
        "print(var1.capitalize())\n",
        "print(var1.upper())\n",
        "print(var1.lower())\n"
      ]
    },
    {
      "cell_type": "markdown",
      "metadata": {
        "id": "i5dXWSIJcpa4"
      },
      "source": [
        "# Using Variables in Strings\n",
        "\n",
        "There are often times you will want to use a variabe inside of a string. There are a few ways to do this, but the most common way is to use f-strings. "
      ]
    },
    {
      "cell_type": "code",
      "execution_count": 10,
      "metadata": {
        "colab": {
          "base_uri": "https://localhost:8080/"
        },
        "id": "isIejAGTvySa",
        "outputId": "b0ead689-3818-4851-e418-6d63103f87f9"
      },
      "outputs": [
        {
          "name": "stdout",
          "output_type": "stream",
          "text": [
            "     john doe 2\n"
          ]
        }
      ],
      "source": [
        "first_name= \"john\"\n",
        "last_name= \"doe\"\n",
        "number= 2\n",
        "full_name= f\"{first_name:>9} {last_name} {number}\"\n",
        "\n",
        "print(full_name)"
      ]
    },
    {
      "cell_type": "markdown",
      "metadata": {
        "id": "OXA7NMvuwH3p"
      },
      "source": [
        "The \"f\" stands for format because Python formats the string by replacing the name of any variable in braces with its value. It is placed before the first quotation mark in the string you want to format.\n",
        "\n",
        "<br>\n",
        "</br>\n",
        "We can also use our string methods inside of our f-strings."
      ]
    },
    {
      "cell_type": "code",
      "execution_count": 11,
      "metadata": {
        "id": "YaDYDkegwGzg"
      },
      "outputs": [
        {
          "name": "stdout",
          "output_type": "stream",
          "text": [
            "Hello,      John Doe 2\n"
          ]
        }
      ],
      "source": [
        "print(f\"Hello, {full_name.title()}\")"
      ]
    },
    {
      "cell_type": "markdown",
      "metadata": {
        "id": "97eInbx005yz"
      },
      "source": [
        "# Stripping Whitespace\n",
        "\n",
        "In Python, the string \"animal\" and \"animal \" are not equal. The whitespace becomes especially important when checking for the length of a string or comparing two strings. The string class has methods to help us remove whitespace."
      ]
    },
    {
      "cell_type": "code",
      "execution_count": 16,
      "metadata": {
        "colab": {
          "base_uri": "https://localhost:8080/"
        },
        "id": "AbOuq4f51j91",
        "outputId": "29cbe0f7-a0ae-4ea5-a53e-e5de73d1f14e"
      },
      "outputs": [
        {
          "name": "stdout",
          "output_type": "stream",
          "text": [
            " reindeer games\n",
            "Reindeer games \n",
            "reindeer games\n"
          ]
        }
      ],
      "source": [
        "phrase= \" reindeer games \"\n",
        "\n",
        "print(phrase.capitalize().rstrip())\n",
        "print(phrase.lstrip().capitalize())\n",
        "print(phrase.capitalize().strip())"
      ]
    },
    {
      "cell_type": "markdown",
      "metadata": {
        "id": "-Y3L20_R787R"
      },
      "source": [
        "A real-world scenario removing whitespace is to clean the values from user input or from data sets."
      ]
    },
    {
      "cell_type": "markdown",
      "metadata": {
        "id": "1pVTqM3Z8ZbM"
      },
      "source": [
        "**Problem 2**\n",
        "\n",
        "Find a short quote and its author. Assign the quote to a variable and assign the name of the author to another variable.\n",
        "\n",
        "Use fstring to create a new variable called message the replicates the following format:\n",
        "\n",
        "\"Michael Scott once said, \"I'm not superstitious but I am a little stitious.\"\n",
        "\n"
      ]
    },
    {
      "cell_type": "code",
      "execution_count": 18,
      "metadata": {
        "id": "2nhPYKoCdrGF"
      },
      "outputs": [
        {
          "name": "stdout",
          "output_type": "stream",
          "text": [
            "Michael Scott once said, \"I'm not superstitious but I am a little stitious.\"\n"
          ]
        }
      ],
      "source": [
        "name= \"Michael Scott\"\n",
        "quote= \"I'm not superstitious but I am a little stitious.\"\n",
        "message= f'{name} once said, \"{quote}\"'\n",
        "\n",
        "print(message)"
      ]
    },
    {
      "cell_type": "markdown",
      "metadata": {
        "id": "ULlgyjJ6dsmq"
      },
      "source": [
        "# String Indexing and Slicing\n",
        "\n",
        "Because a string is a sequence, it can be accessed in the same ways that other sequence-based data types are, through indexing and slicing.\n",
        "\n",
        "Like the list data type that has items that correspond to an index number, each of a string’s characters also correspond to an index number, starting with the index number 0.\n",
        "\n",
        "If we want to access a particular index in a string we can do this using square brackets.\n"
      ]
    },
    {
      "cell_type": "code",
      "execution_count": 19,
      "metadata": {
        "colab": {
          "base_uri": "https://localhost:8080/"
        },
        "id": "OsNrMbApfSNs",
        "outputId": "6fb661d9-25ac-4f3a-f51b-96933dc0e5f0"
      },
      "outputs": [
        {
          "name": "stdout",
          "output_type": "stream",
          "text": [
            "e\n",
            " \n",
            "h\n",
            "s\n"
          ]
        }
      ],
      "source": [
        "course= \"Per Scholas\"\n",
        "\n",
        "print(course[1])\n",
        "print(course[3])\n",
        "print(course[-5])\n",
        "print(course[-1])"
      ]
    },
    {
      "cell_type": "markdown",
      "metadata": {
        "id": "1uFolkBjgJ_2"
      },
      "source": [
        "As you can see from the example above, we can access indexes by positive or negative integers in side the square bracket.\n",
        "\n",
        "The positive integers start from the left at the 0 index and negative integers start from the right at -1(which denotes the last charachter in a string)."
      ]
    },
    {
      "cell_type": "markdown",
      "metadata": {
        "id": "jutJVjmvhf9X"
      },
      "source": [
        "Slicing in Python is a feature that enables accessing parts of the sequence. In slicing a string, we create a substring, which is essentially a string that exists within another string. \n",
        "\n",
        "We use slicing when we require a part of the string and not the complete string.\n",
        "\n",
        "<br></br>\n",
        "Syntax:\n",
        "\n",
        "string[start : end : step]\n",
        "\n",
        "start : We provide the starting index.\n",
        "\n",
        "end : We provide the end index(this is not included in substring).\n",
        "\n",
        "step : It is an optional argument that determines the increment between each index for slicing."
      ]
    },
    {
      "cell_type": "code",
      "execution_count": 29,
      "metadata": {
        "colab": {
          "base_uri": "https://localhost:8080/"
        },
        "id": "mem-fifMh16J",
        "outputId": "d745d629-ee31-47ec-d8f3-c1aac6898817"
      },
      "outputs": [
        {
          "name": "stdout",
          "output_type": "stream",
          "text": [
            "Sli\n",
            "\n",
            "!ses\n",
            "!ysae si sgnirts gnicilS\n"
          ]
        }
      ],
      "source": [
        "string1= \"Slicing strings is easy!\"\n",
        "         #012345678910\n",
        "print(string1[:3])\n",
        "print(string1[1:-10:-3])\n",
        "print(string1[-1: -8: -2])\n",
        "print(string1[::-1])"
      ]
    },
    {
      "attachments": {},
      "cell_type": "markdown",
      "metadata": {
        "id": "SUnB0O91jA1k"
      },
      "source": [
        "**Problem 3**\n",
        "\n",
        "Create a string to practice indexing and slicing on. \n",
        "\n",
        "\n",
        "*  Include at least one whitespace \n",
        "*  Include at least one special charachter\n",
        "*  Must have a length of at least 10\n",
        "\n",
        "Complete the following\n",
        "\n",
        "*  Reverse the entire string\n",
        "*  Get the last charachter of the string\n",
        "*  Get every other charachter in the string\n",
        "*  Check the length of the string\n",
        "*  Get the 4th index in the string\n",
        "*  Get the 4th charachter through the 9th charachter in the string\n",
        "*  Get the 7th through last charachter in the string \n",
        "\n",
        "\n",
        "\n"
      ]
    },
    {
      "cell_type": "code",
      "execution_count": 42,
      "metadata": {
        "id": "ePbaxhL2kPwP"
      },
      "outputs": [
        {
          "name": "stdout",
          "output_type": "stream",
          "text": [
            "!dlroW olleH\n",
            "!\n",
            "HloWrd\n",
            "12\n",
            "o\n",
            "lo Worl\n",
            "World!\n"
          ]
        }
      ],
      "source": [
        "string1= \"Hello World!\"\n",
        "         #0123456789\n",
        "         #l0 wor\n",
        "\n",
        "print(string1[::-1])\n",
        "print(string1[-1])\n",
        "print(string1[::2])\n",
        "print(len(string1))\n",
        "print(string1[4])\n",
        "print(string1[3:10:])\n",
        "print(string1[6::])"
      ]
    }
  ],
  "metadata": {
    "colab": {
      "provenance": []
    },
    "kernelspec": {
      "display_name": "Python 3",
      "name": "python3"
    },
    "language_info": {
      "codemirror_mode": {
        "name": "ipython",
        "version": 3
      },
      "file_extension": ".py",
      "mimetype": "text/x-python",
      "name": "python",
      "nbconvert_exporter": "python",
      "pygments_lexer": "ipython3",
      "version": "3.10.9"
    }
  },
  "nbformat": 4,
  "nbformat_minor": 0
}
